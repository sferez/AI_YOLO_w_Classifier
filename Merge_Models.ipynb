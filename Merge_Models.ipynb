{
 "cells": [
  {
   "cell_type": "markdown",
   "source": [
    "# MERGE YOLO AND CLASSIFIER FOR SUBMISSION"
   ],
   "metadata": {
    "collapsed": false
   }
  },
  {
   "cell_type": "markdown",
   "source": [
    "## IMPORTS"
   ],
   "metadata": {
    "collapsed": false
   }
  },
  {
   "cell_type": "code",
   "execution_count": 18,
   "metadata": {
    "collapsed": true
   },
   "outputs": [],
   "source": [
    "import pandas as pd"
   ]
  },
  {
   "cell_type": "markdown",
   "source": [
    "## CONSTANTS"
   ],
   "metadata": {
    "collapsed": false
   }
  },
  {
   "cell_type": "code",
   "execution_count": 19,
   "outputs": [],
   "source": [
    "YOLO_RESULT = 'yolo.csv'\n",
    "CLASSIFIER_RESULT = 'classifier.csv'"
   ],
   "metadata": {
    "collapsed": false
   }
  },
  {
   "cell_type": "markdown",
   "source": [
    "## FUNCTIONS"
   ],
   "metadata": {
    "collapsed": false
   }
  },
  {
   "cell_type": "code",
   "execution_count": 20,
   "outputs": [],
   "source": [
    "def read_pred(path):\n",
    "    pred_yolo = pd.read_csv(YOLO_RESULT)\n",
    "    print('YOLO: ')\n",
    "    display(pred_yolo.head())\n",
    "    pred_classifier = pd.read_csv(CLASSIFIER_RESULT)\n",
    "    print('CLASSIFIER: ')\n",
    "    display(pred_classifier.head())\n",
    "    return pred_yolo, pred_classifier"
   ],
   "metadata": {
    "collapsed": false
   }
  },
  {
   "cell_type": "code",
   "execution_count": 21,
   "outputs": [],
   "source": [
    "def merge_pred(pred_yolo, pred_classifier):\n",
    "    pred = pd.merge(pred_yolo, pred_classifier, on='image_id', how='left')\n",
    "    display(pred.head())\n",
    "    return pred"
   ],
   "metadata": {
    "collapsed": false
   }
  },
  {
   "cell_type": "code",
   "execution_count": 22,
   "outputs": [],
   "source": [
    "def filter_2cls(row):\n",
    "    prob = row['target']\n",
    "    if prob > 0.99:\n",
    "        ## Less chance of having any disease\n",
    "        row['PredictionString'] = '14 1 0 0 1 1'\n",
    "    elif 0.01 <= prob <= 0.99:\n",
    "        ## More change of having any diesease\n",
    "        row['PredictionString'] += f' 14 {1 - prob} 0 0 1 1'\n",
    "    elif 0.01 >= prob:\n",
    "        ## Good chance of having any disease so believe in object detection model\n",
    "        row['PredictionString'] = row['PredictionString']\n",
    "    else:\n",
    "        print(prob)\n",
    "        raise ValueError('Prediction must be from [0-1]')\n",
    "    return row"
   ],
   "metadata": {
    "collapsed": false
   }
  },
  {
   "cell_type": "code",
   "execution_count": 23,
   "outputs": [],
   "source": [
    "def merge_2cls(pred):\n",
    "    sub = pred.apply(filter_2cls, axis=1)\n",
    "    display(sub.head())\n",
    "    sub[['image_id', 'PredictionString']].to_csv('submission.csv', index=False)\n",
    "    print('Final submission saved at submission.csv')"
   ],
   "metadata": {
    "collapsed": false
   }
  },
  {
   "cell_type": "markdown",
   "source": [
    "## RUN"
   ],
   "metadata": {
    "collapsed": false
   }
  },
  {
   "cell_type": "markdown",
   "source": [
    "#### READ PREDICTIONS"
   ],
   "metadata": {
    "collapsed": false
   }
  },
  {
   "cell_type": "code",
   "execution_count": 24,
   "outputs": [
    {
     "name": "stdout",
     "output_type": "stream",
     "text": [
      "YOLO: \n"
     ]
    },
    {
     "data": {
      "text/plain": "                           image_id  \\\n0  83caa8a85e03606cf57e49147d7ac569   \n1  7550347fa2bb96c2354a3716dfa3a69c   \n2  74b23792db329cff5843e36efb8aa65a   \n3  94568a546be103177cb582d3e91cd2d8   \n4  6da36354fc904b63bc03eb3884e0c35c   \n\n                                    PredictionString  \n0   0 0.2 1073 754 1318 976 3 0.8 785 1142 1789 1642  \n1  3 0.0 768 1575 1908 2128 11 0.0 729 354 962 41...  \n2  10 0.0 139 2468 280 2648 11 0.1 166 2483 264 2645  \n3  11 0.1 1104 681 1324 748 11 0.1 685 712 886 77...  \n4  11 0.0 1556 608 1739 1005 11 0.0 1703 747 1821...  ",
      "text/html": "<div>\n<style scoped>\n    .dataframe tbody tr th:only-of-type {\n        vertical-align: middle;\n    }\n\n    .dataframe tbody tr th {\n        vertical-align: top;\n    }\n\n    .dataframe thead th {\n        text-align: right;\n    }\n</style>\n<table border=\"1\" class=\"dataframe\">\n  <thead>\n    <tr style=\"text-align: right;\">\n      <th></th>\n      <th>image_id</th>\n      <th>PredictionString</th>\n    </tr>\n  </thead>\n  <tbody>\n    <tr>\n      <th>0</th>\n      <td>83caa8a85e03606cf57e49147d7ac569</td>\n      <td>0 0.2 1073 754 1318 976 3 0.8 785 1142 1789 1642</td>\n    </tr>\n    <tr>\n      <th>1</th>\n      <td>7550347fa2bb96c2354a3716dfa3a69c</td>\n      <td>3 0.0 768 1575 1908 2128 11 0.0 729 354 962 41...</td>\n    </tr>\n    <tr>\n      <th>2</th>\n      <td>74b23792db329cff5843e36efb8aa65a</td>\n      <td>10 0.0 139 2468 280 2648 11 0.1 166 2483 264 2645</td>\n    </tr>\n    <tr>\n      <th>3</th>\n      <td>94568a546be103177cb582d3e91cd2d8</td>\n      <td>11 0.1 1104 681 1324 748 11 0.1 685 712 886 77...</td>\n    </tr>\n    <tr>\n      <th>4</th>\n      <td>6da36354fc904b63bc03eb3884e0c35c</td>\n      <td>11 0.0 1556 608 1739 1005 11 0.0 1703 747 1821...</td>\n    </tr>\n  </tbody>\n</table>\n</div>"
     },
     "metadata": {},
     "output_type": "display_data"
    },
    {
     "name": "stdout",
     "output_type": "stream",
     "text": [
      "CLASSIFIER: \n"
     ]
    },
    {
     "data": {
      "text/plain": "                           image_id    target\n0  c9fbdd6dbbd3e5246b0184824f681e0f  0.170756\n1  b12232ebf575db0226671621146f76e1  0.999787\n2  e713fe6ed28f23aed83f54c56ff30189  0.995378\n3  754b90e60a89d03d18dbf9b30cce6eec  0.980132\n4  d7494cea30e4fa1e4b4ebd0ecc6e03e5  0.880813",
      "text/html": "<div>\n<style scoped>\n    .dataframe tbody tr th:only-of-type {\n        vertical-align: middle;\n    }\n\n    .dataframe tbody tr th {\n        vertical-align: top;\n    }\n\n    .dataframe thead th {\n        text-align: right;\n    }\n</style>\n<table border=\"1\" class=\"dataframe\">\n  <thead>\n    <tr style=\"text-align: right;\">\n      <th></th>\n      <th>image_id</th>\n      <th>target</th>\n    </tr>\n  </thead>\n  <tbody>\n    <tr>\n      <th>0</th>\n      <td>c9fbdd6dbbd3e5246b0184824f681e0f</td>\n      <td>0.170756</td>\n    </tr>\n    <tr>\n      <th>1</th>\n      <td>b12232ebf575db0226671621146f76e1</td>\n      <td>0.999787</td>\n    </tr>\n    <tr>\n      <th>2</th>\n      <td>e713fe6ed28f23aed83f54c56ff30189</td>\n      <td>0.995378</td>\n    </tr>\n    <tr>\n      <th>3</th>\n      <td>754b90e60a89d03d18dbf9b30cce6eec</td>\n      <td>0.980132</td>\n    </tr>\n    <tr>\n      <th>4</th>\n      <td>d7494cea30e4fa1e4b4ebd0ecc6e03e5</td>\n      <td>0.880813</td>\n    </tr>\n  </tbody>\n</table>\n</div>"
     },
     "metadata": {},
     "output_type": "display_data"
    }
   ],
   "source": [
    "pred_yolo, pred_classifier = read_pred(YOLO_RESULT)"
   ],
   "metadata": {
    "collapsed": false
   }
  },
  {
   "cell_type": "markdown",
   "source": [
    "#### MERGE PREDICTIONS"
   ],
   "metadata": {
    "collapsed": false
   }
  },
  {
   "cell_type": "code",
   "execution_count": 25,
   "outputs": [
    {
     "data": {
      "text/plain": "                           image_id  \\\n0  83caa8a85e03606cf57e49147d7ac569   \n1  7550347fa2bb96c2354a3716dfa3a69c   \n2  74b23792db329cff5843e36efb8aa65a   \n3  94568a546be103177cb582d3e91cd2d8   \n4  6da36354fc904b63bc03eb3884e0c35c   \n\n                                    PredictionString    target  \n0   0 0.2 1073 754 1318 976 3 0.8 785 1142 1789 1642  0.000371  \n1  3 0.0 768 1575 1908 2128 11 0.0 729 354 962 41...  0.998544  \n2  10 0.0 139 2468 280 2648 11 0.1 166 2483 264 2645  0.999830  \n3  11 0.1 1104 681 1324 748 11 0.1 685 712 886 77...  0.999744  \n4  11 0.0 1556 608 1739 1005 11 0.0 1703 747 1821...  0.005593  ",
      "text/html": "<div>\n<style scoped>\n    .dataframe tbody tr th:only-of-type {\n        vertical-align: middle;\n    }\n\n    .dataframe tbody tr th {\n        vertical-align: top;\n    }\n\n    .dataframe thead th {\n        text-align: right;\n    }\n</style>\n<table border=\"1\" class=\"dataframe\">\n  <thead>\n    <tr style=\"text-align: right;\">\n      <th></th>\n      <th>image_id</th>\n      <th>PredictionString</th>\n      <th>target</th>\n    </tr>\n  </thead>\n  <tbody>\n    <tr>\n      <th>0</th>\n      <td>83caa8a85e03606cf57e49147d7ac569</td>\n      <td>0 0.2 1073 754 1318 976 3 0.8 785 1142 1789 1642</td>\n      <td>0.000371</td>\n    </tr>\n    <tr>\n      <th>1</th>\n      <td>7550347fa2bb96c2354a3716dfa3a69c</td>\n      <td>3 0.0 768 1575 1908 2128 11 0.0 729 354 962 41...</td>\n      <td>0.998544</td>\n    </tr>\n    <tr>\n      <th>2</th>\n      <td>74b23792db329cff5843e36efb8aa65a</td>\n      <td>10 0.0 139 2468 280 2648 11 0.1 166 2483 264 2645</td>\n      <td>0.999830</td>\n    </tr>\n    <tr>\n      <th>3</th>\n      <td>94568a546be103177cb582d3e91cd2d8</td>\n      <td>11 0.1 1104 681 1324 748 11 0.1 685 712 886 77...</td>\n      <td>0.999744</td>\n    </tr>\n    <tr>\n      <th>4</th>\n      <td>6da36354fc904b63bc03eb3884e0c35c</td>\n      <td>11 0.0 1556 608 1739 1005 11 0.0 1703 747 1821...</td>\n      <td>0.005593</td>\n    </tr>\n  </tbody>\n</table>\n</div>"
     },
     "metadata": {},
     "output_type": "display_data"
    }
   ],
   "source": [
    "pred = merge_pred(pred_yolo, pred_classifier)"
   ],
   "metadata": {
    "collapsed": false
   }
  },
  {
   "cell_type": "markdown",
   "source": [
    "#### CREATE SUBMISSION"
   ],
   "metadata": {
    "collapsed": false
   }
  },
  {
   "cell_type": "code",
   "execution_count": 26,
   "outputs": [
    {
     "data": {
      "text/plain": "                           image_id  \\\n0  83caa8a85e03606cf57e49147d7ac569   \n1  7550347fa2bb96c2354a3716dfa3a69c   \n2  74b23792db329cff5843e36efb8aa65a   \n3  94568a546be103177cb582d3e91cd2d8   \n4  6da36354fc904b63bc03eb3884e0c35c   \n\n                                    PredictionString    target  \n0   0 0.2 1073 754 1318 976 3 0.8 785 1142 1789 1642  0.000371  \n1                                       14 1 0 0 1 1  0.998544  \n2                                       14 1 0 0 1 1  0.999830  \n3                                       14 1 0 0 1 1  0.999744  \n4  11 0.0 1556 608 1739 1005 11 0.0 1703 747 1821...  0.005593  ",
      "text/html": "<div>\n<style scoped>\n    .dataframe tbody tr th:only-of-type {\n        vertical-align: middle;\n    }\n\n    .dataframe tbody tr th {\n        vertical-align: top;\n    }\n\n    .dataframe thead th {\n        text-align: right;\n    }\n</style>\n<table border=\"1\" class=\"dataframe\">\n  <thead>\n    <tr style=\"text-align: right;\">\n      <th></th>\n      <th>image_id</th>\n      <th>PredictionString</th>\n      <th>target</th>\n    </tr>\n  </thead>\n  <tbody>\n    <tr>\n      <th>0</th>\n      <td>83caa8a85e03606cf57e49147d7ac569</td>\n      <td>0 0.2 1073 754 1318 976 3 0.8 785 1142 1789 1642</td>\n      <td>0.000371</td>\n    </tr>\n    <tr>\n      <th>1</th>\n      <td>7550347fa2bb96c2354a3716dfa3a69c</td>\n      <td>14 1 0 0 1 1</td>\n      <td>0.998544</td>\n    </tr>\n    <tr>\n      <th>2</th>\n      <td>74b23792db329cff5843e36efb8aa65a</td>\n      <td>14 1 0 0 1 1</td>\n      <td>0.999830</td>\n    </tr>\n    <tr>\n      <th>3</th>\n      <td>94568a546be103177cb582d3e91cd2d8</td>\n      <td>14 1 0 0 1 1</td>\n      <td>0.999744</td>\n    </tr>\n    <tr>\n      <th>4</th>\n      <td>6da36354fc904b63bc03eb3884e0c35c</td>\n      <td>11 0.0 1556 608 1739 1005 11 0.0 1703 747 1821...</td>\n      <td>0.005593</td>\n    </tr>\n  </tbody>\n</table>\n</div>"
     },
     "metadata": {},
     "output_type": "display_data"
    },
    {
     "name": "stdout",
     "output_type": "stream",
     "text": [
      "Final submission saved at submission.csv\n"
     ]
    }
   ],
   "source": [
    "merge_2cls(pred)"
   ],
   "metadata": {
    "collapsed": false
   }
  },
  {
   "cell_type": "code",
   "execution_count": null,
   "outputs": [],
   "source": [],
   "metadata": {
    "collapsed": false
   }
  }
 ],
 "metadata": {
  "kernelspec": {
   "display_name": "Python 3",
   "language": "python",
   "name": "python3"
  },
  "language_info": {
   "codemirror_mode": {
    "name": "ipython",
    "version": 2
   },
   "file_extension": ".py",
   "mimetype": "text/x-python",
   "name": "python",
   "nbconvert_exporter": "python",
   "pygments_lexer": "ipython2",
   "version": "2.7.6"
  }
 },
 "nbformat": 4,
 "nbformat_minor": 0
}
