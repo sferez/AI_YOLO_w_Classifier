{
 "metadata": {
  "kernelspec": {
   "display_name": "Python 3",
   "language": "python",
   "name": "python3"
  },
  "language_info": {
   "name": "python",
   "version": "3.7.12",
   "mimetype": "text/x-python",
   "codemirror_mode": {
    "name": "ipython",
    "version": 3
   },
   "pygments_lexer": "ipython3",
   "nbconvert_exporter": "python",
   "file_extension": ".py"
  },
  "colab": {
   "provenance": [],
   "collapsed_sections": [
    "Qj_Y112ATnJM",
    "54CTsuhw8PaY"
   ]
  },
  "accelerator": "GPU",
  "gpuClass": "standard",
  "widgets": {
   "application/vnd.jupyter.widget-state+json": {
    "8470f0b6821642d3a51ce6c2be83aa5f": {
     "model_module": "@jupyter-widgets/controls",
     "model_name": "HBoxModel",
     "model_module_version": "1.5.0",
     "state": {
      "_dom_classes": [],
      "_model_module": "@jupyter-widgets/controls",
      "_model_module_version": "1.5.0",
      "_model_name": "HBoxModel",
      "_view_count": null,
      "_view_module": "@jupyter-widgets/controls",
      "_view_module_version": "1.5.0",
      "_view_name": "HBoxView",
      "box_style": "",
      "children": [
       "IPY_MODEL_48dd68d1d5bd4fcb842e6af44d8808e2",
       "IPY_MODEL_be92c34de60842c882b8537144972491",
       "IPY_MODEL_c81c4625a3e7456d88e8db3d9abaf6f3"
      ],
      "layout": "IPY_MODEL_b83437a8a20b4d398148d973fddef203"
     }
    },
    "48dd68d1d5bd4fcb842e6af44d8808e2": {
     "model_module": "@jupyter-widgets/controls",
     "model_name": "HTMLModel",
     "model_module_version": "1.5.0",
     "state": {
      "_dom_classes": [],
      "_model_module": "@jupyter-widgets/controls",
      "_model_module_version": "1.5.0",
      "_model_name": "HTMLModel",
      "_view_count": null,
      "_view_module": "@jupyter-widgets/controls",
      "_view_module_version": "1.5.0",
      "_view_name": "HTMLView",
      "description": "",
      "description_tooltip": null,
      "layout": "IPY_MODEL_134bd535e96743f383ed020feb5b5df6",
      "placeholder": "​",
      "style": "IPY_MODEL_8c5f0efcdef340d5ac74c8c243873e0f",
      "value": "100%"
     }
    },
    "be92c34de60842c882b8537144972491": {
     "model_module": "@jupyter-widgets/controls",
     "model_name": "FloatProgressModel",
     "model_module_version": "1.5.0",
     "state": {
      "_dom_classes": [],
      "_model_module": "@jupyter-widgets/controls",
      "_model_module_version": "1.5.0",
      "_model_name": "FloatProgressModel",
      "_view_count": null,
      "_view_module": "@jupyter-widgets/controls",
      "_view_module_version": "1.5.0",
      "_view_name": "ProgressView",
      "bar_style": "success",
      "description": "",
      "description_tooltip": null,
      "layout": "IPY_MODEL_457dd4db65404f3598191febbb2a10d0",
      "max": 2984,
      "min": 0,
      "orientation": "horizontal",
      "style": "IPY_MODEL_fbe6e072e68141568def839cf452f663",
      "value": 2984
     }
    },
    "c81c4625a3e7456d88e8db3d9abaf6f3": {
     "model_module": "@jupyter-widgets/controls",
     "model_name": "HTMLModel",
     "model_module_version": "1.5.0",
     "state": {
      "_dom_classes": [],
      "_model_module": "@jupyter-widgets/controls",
      "_model_module_version": "1.5.0",
      "_model_name": "HTMLModel",
      "_view_count": null,
      "_view_module": "@jupyter-widgets/controls",
      "_view_module_version": "1.5.0",
      "_view_name": "HTMLView",
      "description": "",
      "description_tooltip": null,
      "layout": "IPY_MODEL_e9382d13b31c416f993ceec03f7d3ba9",
      "placeholder": "​",
      "style": "IPY_MODEL_3b2158888bb0416b9639752c09d369b9",
      "value": " 2984/2984 [00:05&lt;00:00, 654.99it/s]"
     }
    },
    "b83437a8a20b4d398148d973fddef203": {
     "model_module": "@jupyter-widgets/base",
     "model_name": "LayoutModel",
     "model_module_version": "1.2.0",
     "state": {
      "_model_module": "@jupyter-widgets/base",
      "_model_module_version": "1.2.0",
      "_model_name": "LayoutModel",
      "_view_count": null,
      "_view_module": "@jupyter-widgets/base",
      "_view_module_version": "1.2.0",
      "_view_name": "LayoutView",
      "align_content": null,
      "align_items": null,
      "align_self": null,
      "border": null,
      "bottom": null,
      "display": null,
      "flex": null,
      "flex_flow": null,
      "grid_area": null,
      "grid_auto_columns": null,
      "grid_auto_flow": null,
      "grid_auto_rows": null,
      "grid_column": null,
      "grid_gap": null,
      "grid_row": null,
      "grid_template_areas": null,
      "grid_template_columns": null,
      "grid_template_rows": null,
      "height": null,
      "justify_content": null,
      "justify_items": null,
      "left": null,
      "margin": null,
      "max_height": null,
      "max_width": null,
      "min_height": null,
      "min_width": null,
      "object_fit": null,
      "object_position": null,
      "order": null,
      "overflow": null,
      "overflow_x": null,
      "overflow_y": null,
      "padding": null,
      "right": null,
      "top": null,
      "visibility": null,
      "width": null
     }
    },
    "134bd535e96743f383ed020feb5b5df6": {
     "model_module": "@jupyter-widgets/base",
     "model_name": "LayoutModel",
     "model_module_version": "1.2.0",
     "state": {
      "_model_module": "@jupyter-widgets/base",
      "_model_module_version": "1.2.0",
      "_model_name": "LayoutModel",
      "_view_count": null,
      "_view_module": "@jupyter-widgets/base",
      "_view_module_version": "1.2.0",
      "_view_name": "LayoutView",
      "align_content": null,
      "align_items": null,
      "align_self": null,
      "border": null,
      "bottom": null,
      "display": null,
      "flex": null,
      "flex_flow": null,
      "grid_area": null,
      "grid_auto_columns": null,
      "grid_auto_flow": null,
      "grid_auto_rows": null,
      "grid_column": null,
      "grid_gap": null,
      "grid_row": null,
      "grid_template_areas": null,
      "grid_template_columns": null,
      "grid_template_rows": null,
      "height": null,
      "justify_content": null,
      "justify_items": null,
      "left": null,
      "margin": null,
      "max_height": null,
      "max_width": null,
      "min_height": null,
      "min_width": null,
      "object_fit": null,
      "object_position": null,
      "order": null,
      "overflow": null,
      "overflow_x": null,
      "overflow_y": null,
      "padding": null,
      "right": null,
      "top": null,
      "visibility": null,
      "width": null
     }
    },
    "8c5f0efcdef340d5ac74c8c243873e0f": {
     "model_module": "@jupyter-widgets/controls",
     "model_name": "DescriptionStyleModel",
     "model_module_version": "1.5.0",
     "state": {
      "_model_module": "@jupyter-widgets/controls",
      "_model_module_version": "1.5.0",
      "_model_name": "DescriptionStyleModel",
      "_view_count": null,
      "_view_module": "@jupyter-widgets/base",
      "_view_module_version": "1.2.0",
      "_view_name": "StyleView",
      "description_width": ""
     }
    },
    "457dd4db65404f3598191febbb2a10d0": {
     "model_module": "@jupyter-widgets/base",
     "model_name": "LayoutModel",
     "model_module_version": "1.2.0",
     "state": {
      "_model_module": "@jupyter-widgets/base",
      "_model_module_version": "1.2.0",
      "_model_name": "LayoutModel",
      "_view_count": null,
      "_view_module": "@jupyter-widgets/base",
      "_view_module_version": "1.2.0",
      "_view_name": "LayoutView",
      "align_content": null,
      "align_items": null,
      "align_self": null,
      "border": null,
      "bottom": null,
      "display": null,
      "flex": null,
      "flex_flow": null,
      "grid_area": null,
      "grid_auto_columns": null,
      "grid_auto_flow": null,
      "grid_auto_rows": null,
      "grid_column": null,
      "grid_gap": null,
      "grid_row": null,
      "grid_template_areas": null,
      "grid_template_columns": null,
      "grid_template_rows": null,
      "height": null,
      "justify_content": null,
      "justify_items": null,
      "left": null,
      "margin": null,
      "max_height": null,
      "max_width": null,
      "min_height": null,
      "min_width": null,
      "object_fit": null,
      "object_position": null,
      "order": null,
      "overflow": null,
      "overflow_x": null,
      "overflow_y": null,
      "padding": null,
      "right": null,
      "top": null,
      "visibility": null,
      "width": null
     }
    },
    "fbe6e072e68141568def839cf452f663": {
     "model_module": "@jupyter-widgets/controls",
     "model_name": "ProgressStyleModel",
     "model_module_version": "1.5.0",
     "state": {
      "_model_module": "@jupyter-widgets/controls",
      "_model_module_version": "1.5.0",
      "_model_name": "ProgressStyleModel",
      "_view_count": null,
      "_view_module": "@jupyter-widgets/base",
      "_view_module_version": "1.2.0",
      "_view_name": "StyleView",
      "bar_color": null,
      "description_width": ""
     }
    },
    "e9382d13b31c416f993ceec03f7d3ba9": {
     "model_module": "@jupyter-widgets/base",
     "model_name": "LayoutModel",
     "model_module_version": "1.2.0",
     "state": {
      "_model_module": "@jupyter-widgets/base",
      "_model_module_version": "1.2.0",
      "_model_name": "LayoutModel",
      "_view_count": null,
      "_view_module": "@jupyter-widgets/base",
      "_view_module_version": "1.2.0",
      "_view_name": "LayoutView",
      "align_content": null,
      "align_items": null,
      "align_self": null,
      "border": null,
      "bottom": null,
      "display": null,
      "flex": null,
      "flex_flow": null,
      "grid_area": null,
      "grid_auto_columns": null,
      "grid_auto_flow": null,
      "grid_auto_rows": null,
      "grid_column": null,
      "grid_gap": null,
      "grid_row": null,
      "grid_template_areas": null,
      "grid_template_columns": null,
      "grid_template_rows": null,
      "height": null,
      "justify_content": null,
      "justify_items": null,
      "left": null,
      "margin": null,
      "max_height": null,
      "max_width": null,
      "min_height": null,
      "min_width": null,
      "object_fit": null,
      "object_position": null,
      "order": null,
      "overflow": null,
      "overflow_x": null,
      "overflow_y": null,
      "padding": null,
      "right": null,
      "top": null,
      "visibility": null,
      "width": null
     }
    },
    "3b2158888bb0416b9639752c09d369b9": {
     "model_module": "@jupyter-widgets/controls",
     "model_name": "DescriptionStyleModel",
     "model_module_version": "1.5.0",
     "state": {
      "_model_module": "@jupyter-widgets/controls",
      "_model_module_version": "1.5.0",
      "_model_name": "DescriptionStyleModel",
      "_view_count": null,
      "_view_module": "@jupyter-widgets/base",
      "_view_module_version": "1.2.0",
      "_view_name": "StyleView",
      "description_width": ""
     }
    },
    "4d525a6b1ded414db4109dd958f6473c": {
     "model_module": "@jupyter-widgets/controls",
     "model_name": "HBoxModel",
     "model_module_version": "1.5.0",
     "state": {
      "_dom_classes": [],
      "_model_module": "@jupyter-widgets/controls",
      "_model_module_version": "1.5.0",
      "_model_name": "HBoxModel",
      "_view_count": null,
      "_view_module": "@jupyter-widgets/controls",
      "_view_module_version": "1.5.0",
      "_view_name": "HBoxView",
      "box_style": "",
      "children": [
       "IPY_MODEL_d7c776a801394355befc2811d8c05732",
       "IPY_MODEL_1575ccf61447463b80c182cfa5ef84cc",
       "IPY_MODEL_76115e0a9186410aa8b7f324b70af8d3"
      ],
      "layout": "IPY_MODEL_27939b1656f348c2b38678a3cfb92bc1"
     }
    },
    "d7c776a801394355befc2811d8c05732": {
     "model_module": "@jupyter-widgets/controls",
     "model_name": "HTMLModel",
     "model_module_version": "1.5.0",
     "state": {
      "_dom_classes": [],
      "_model_module": "@jupyter-widgets/controls",
      "_model_module_version": "1.5.0",
      "_model_name": "HTMLModel",
      "_view_count": null,
      "_view_module": "@jupyter-widgets/controls",
      "_view_module_version": "1.5.0",
      "_view_name": "HTMLView",
      "description": "",
      "description_tooltip": null,
      "layout": "IPY_MODEL_9f1e092be5274d00a1244b83ffc76179",
      "placeholder": "​",
      "style": "IPY_MODEL_00ccb50c9e244759b7c01a95dcd4c7c1",
      "value": ""
     }
    },
    "1575ccf61447463b80c182cfa5ef84cc": {
     "model_module": "@jupyter-widgets/controls",
     "model_name": "FloatProgressModel",
     "model_module_version": "1.5.0",
     "state": {
      "_dom_classes": [],
      "_model_module": "@jupyter-widgets/controls",
      "_model_module_version": "1.5.0",
      "_model_name": "FloatProgressModel",
      "_view_count": null,
      "_view_module": "@jupyter-widgets/controls",
      "_view_module_version": "1.5.0",
      "_view_name": "ProgressView",
      "bar_style": "success",
      "description": "",
      "description_tooltip": null,
      "layout": "IPY_MODEL_077366440fea4a17864c6c94867e148b",
      "max": 1,
      "min": 0,
      "orientation": "horizontal",
      "style": "IPY_MODEL_0e5e4751e2bc4e7383891f8bb22e5f79",
      "value": 1
     }
    },
    "76115e0a9186410aa8b7f324b70af8d3": {
     "model_module": "@jupyter-widgets/controls",
     "model_name": "HTMLModel",
     "model_module_version": "1.5.0",
     "state": {
      "_dom_classes": [],
      "_model_module": "@jupyter-widgets/controls",
      "_model_module_version": "1.5.0",
      "_model_name": "HTMLModel",
      "_view_count": null,
      "_view_module": "@jupyter-widgets/controls",
      "_view_module_version": "1.5.0",
      "_view_name": "HTMLView",
      "description": "",
      "description_tooltip": null,
      "layout": "IPY_MODEL_9ff06ea673774f56b6fa07e832a9e89b",
      "placeholder": "​",
      "style": "IPY_MODEL_88ad6710c3eb41e7827afff1585fe07d",
      "value": " 36096/? [01:07&lt;00:00, 703.50it/s]"
     }
    },
    "27939b1656f348c2b38678a3cfb92bc1": {
     "model_module": "@jupyter-widgets/base",
     "model_name": "LayoutModel",
     "model_module_version": "1.2.0",
     "state": {
      "_model_module": "@jupyter-widgets/base",
      "_model_module_version": "1.2.0",
      "_model_name": "LayoutModel",
      "_view_count": null,
      "_view_module": "@jupyter-widgets/base",
      "_view_module_version": "1.2.0",
      "_view_name": "LayoutView",
      "align_content": null,
      "align_items": null,
      "align_self": null,
      "border": null,
      "bottom": null,
      "display": null,
      "flex": null,
      "flex_flow": null,
      "grid_area": null,
      "grid_auto_columns": null,
      "grid_auto_flow": null,
      "grid_auto_rows": null,
      "grid_column": null,
      "grid_gap": null,
      "grid_row": null,
      "grid_template_areas": null,
      "grid_template_columns": null,
      "grid_template_rows": null,
      "height": null,
      "justify_content": null,
      "justify_items": null,
      "left": null,
      "margin": null,
      "max_height": null,
      "max_width": null,
      "min_height": null,
      "min_width": null,
      "object_fit": null,
      "object_position": null,
      "order": null,
      "overflow": null,
      "overflow_x": null,
      "overflow_y": null,
      "padding": null,
      "right": null,
      "top": null,
      "visibility": null,
      "width": null
     }
    },
    "9f1e092be5274d00a1244b83ffc76179": {
     "model_module": "@jupyter-widgets/base",
     "model_name": "LayoutModel",
     "model_module_version": "1.2.0",
     "state": {
      "_model_module": "@jupyter-widgets/base",
      "_model_module_version": "1.2.0",
      "_model_name": "LayoutModel",
      "_view_count": null,
      "_view_module": "@jupyter-widgets/base",
      "_view_module_version": "1.2.0",
      "_view_name": "LayoutView",
      "align_content": null,
      "align_items": null,
      "align_self": null,
      "border": null,
      "bottom": null,
      "display": null,
      "flex": null,
      "flex_flow": null,
      "grid_area": null,
      "grid_auto_columns": null,
      "grid_auto_flow": null,
      "grid_auto_rows": null,
      "grid_column": null,
      "grid_gap": null,
      "grid_row": null,
      "grid_template_areas": null,
      "grid_template_columns": null,
      "grid_template_rows": null,
      "height": null,
      "justify_content": null,
      "justify_items": null,
      "left": null,
      "margin": null,
      "max_height": null,
      "max_width": null,
      "min_height": null,
      "min_width": null,
      "object_fit": null,
      "object_position": null,
      "order": null,
      "overflow": null,
      "overflow_x": null,
      "overflow_y": null,
      "padding": null,
      "right": null,
      "top": null,
      "visibility": null,
      "width": null
     }
    },
    "00ccb50c9e244759b7c01a95dcd4c7c1": {
     "model_module": "@jupyter-widgets/controls",
     "model_name": "DescriptionStyleModel",
     "model_module_version": "1.5.0",
     "state": {
      "_model_module": "@jupyter-widgets/controls",
      "_model_module_version": "1.5.0",
      "_model_name": "DescriptionStyleModel",
      "_view_count": null,
      "_view_module": "@jupyter-widgets/base",
      "_view_module_version": "1.2.0",
      "_view_name": "StyleView",
      "description_width": ""
     }
    },
    "077366440fea4a17864c6c94867e148b": {
     "model_module": "@jupyter-widgets/base",
     "model_name": "LayoutModel",
     "model_module_version": "1.2.0",
     "state": {
      "_model_module": "@jupyter-widgets/base",
      "_model_module_version": "1.2.0",
      "_model_name": "LayoutModel",
      "_view_count": null,
      "_view_module": "@jupyter-widgets/base",
      "_view_module_version": "1.2.0",
      "_view_name": "LayoutView",
      "align_content": null,
      "align_items": null,
      "align_self": null,
      "border": null,
      "bottom": null,
      "display": null,
      "flex": null,
      "flex_flow": null,
      "grid_area": null,
      "grid_auto_columns": null,
      "grid_auto_flow": null,
      "grid_auto_rows": null,
      "grid_column": null,
      "grid_gap": null,
      "grid_row": null,
      "grid_template_areas": null,
      "grid_template_columns": null,
      "grid_template_rows": null,
      "height": null,
      "justify_content": null,
      "justify_items": null,
      "left": null,
      "margin": null,
      "max_height": null,
      "max_width": null,
      "min_height": null,
      "min_width": null,
      "object_fit": null,
      "object_position": null,
      "order": null,
      "overflow": null,
      "overflow_x": null,
      "overflow_y": null,
      "padding": null,
      "right": null,
      "top": null,
      "visibility": null,
      "width": "20px"
     }
    },
    "0e5e4751e2bc4e7383891f8bb22e5f79": {
     "model_module": "@jupyter-widgets/controls",
     "model_name": "ProgressStyleModel",
     "model_module_version": "1.5.0",
     "state": {
      "_model_module": "@jupyter-widgets/controls",
      "_model_module_version": "1.5.0",
      "_model_name": "ProgressStyleModel",
      "_view_count": null,
      "_view_module": "@jupyter-widgets/base",
      "_view_module_version": "1.2.0",
      "_view_name": "StyleView",
      "bar_color": null,
      "description_width": ""
     }
    },
    "9ff06ea673774f56b6fa07e832a9e89b": {
     "model_module": "@jupyter-widgets/base",
     "model_name": "LayoutModel",
     "model_module_version": "1.2.0",
     "state": {
      "_model_module": "@jupyter-widgets/base",
      "_model_module_version": "1.2.0",
      "_model_name": "LayoutModel",
      "_view_count": null,
      "_view_module": "@jupyter-widgets/base",
      "_view_module_version": "1.2.0",
      "_view_name": "LayoutView",
      "align_content": null,
      "align_items": null,
      "align_self": null,
      "border": null,
      "bottom": null,
      "display": null,
      "flex": null,
      "flex_flow": null,
      "grid_area": null,
      "grid_auto_columns": null,
      "grid_auto_flow": null,
      "grid_auto_rows": null,
      "grid_column": null,
      "grid_gap": null,
      "grid_row": null,
      "grid_template_areas": null,
      "grid_template_columns": null,
      "grid_template_rows": null,
      "height": null,
      "justify_content": null,
      "justify_items": null,
      "left": null,
      "margin": null,
      "max_height": null,
      "max_width": null,
      "min_height": null,
      "min_width": null,
      "object_fit": null,
      "object_position": null,
      "order": null,
      "overflow": null,
      "overflow_x": null,
      "overflow_y": null,
      "padding": null,
      "right": null,
      "top": null,
      "visibility": null,
      "width": null
     }
    },
    "88ad6710c3eb41e7827afff1585fe07d": {
     "model_module": "@jupyter-widgets/controls",
     "model_name": "DescriptionStyleModel",
     "model_module_version": "1.5.0",
     "state": {
      "_model_module": "@jupyter-widgets/controls",
      "_model_module_version": "1.5.0",
      "_model_name": "DescriptionStyleModel",
      "_view_count": null,
      "_view_module": "@jupyter-widgets/base",
      "_view_module_version": "1.2.0",
      "_view_name": "StyleView",
      "description_width": ""
     }
    },
    "b82c1092820d4fdbabd0422ee57677a9": {
     "model_module": "@jupyter-widgets/controls",
     "model_name": "HBoxModel",
     "model_module_version": "1.5.0",
     "state": {
      "_dom_classes": [],
      "_model_module": "@jupyter-widgets/controls",
      "_model_module_version": "1.5.0",
      "_model_name": "HBoxModel",
      "_view_count": null,
      "_view_module": "@jupyter-widgets/controls",
      "_view_module_version": "1.5.0",
      "_view_name": "HBoxView",
      "box_style": "",
      "children": [
       "IPY_MODEL_361c9fb273cf4c2fb02d53e0ade0389b",
       "IPY_MODEL_e955d115193a4930b83f0e0dd0154d27",
       "IPY_MODEL_16402111c1be46ed9c13c38da3698403"
      ],
      "layout": "IPY_MODEL_12c3fc0003c04523aadc9afee3bfc7b5"
     }
    },
    "361c9fb273cf4c2fb02d53e0ade0389b": {
     "model_module": "@jupyter-widgets/controls",
     "model_name": "HTMLModel",
     "model_module_version": "1.5.0",
     "state": {
      "_dom_classes": [],
      "_model_module": "@jupyter-widgets/controls",
      "_model_module_version": "1.5.0",
      "_model_name": "HTMLModel",
      "_view_count": null,
      "_view_module": "@jupyter-widgets/controls",
      "_view_module_version": "1.5.0",
      "_view_name": "HTMLView",
      "description": "",
      "description_tooltip": null,
      "layout": "IPY_MODEL_df6f19b56b904f99925fa298566f115d",
      "placeholder": "​",
      "style": "IPY_MODEL_ee0805f4749741848d852ebca32da701",
      "value": ""
     }
    },
    "e955d115193a4930b83f0e0dd0154d27": {
     "model_module": "@jupyter-widgets/controls",
     "model_name": "FloatProgressModel",
     "model_module_version": "1.5.0",
     "state": {
      "_dom_classes": [],
      "_model_module": "@jupyter-widgets/controls",
      "_model_module_version": "1.5.0",
      "_model_name": "FloatProgressModel",
      "_view_count": null,
      "_view_module": "@jupyter-widgets/controls",
      "_view_module_version": "1.5.0",
      "_view_name": "ProgressView",
      "bar_style": "success",
      "description": "",
      "description_tooltip": null,
      "layout": "IPY_MODEL_960faa708b6a4a5a9a35e375b3a5f470",
      "max": 1,
      "min": 0,
      "orientation": "horizontal",
      "style": "IPY_MODEL_c84afff1740348a3a924221ba139ac22",
      "value": 1
     }
    },
    "16402111c1be46ed9c13c38da3698403": {
     "model_module": "@jupyter-widgets/controls",
     "model_name": "HTMLModel",
     "model_module_version": "1.5.0",
     "state": {
      "_dom_classes": [],
      "_model_module": "@jupyter-widgets/controls",
      "_model_module_version": "1.5.0",
      "_model_name": "HTMLModel",
      "_view_count": null,
      "_view_module": "@jupyter-widgets/controls",
      "_view_module_version": "1.5.0",
      "_view_name": "HTMLView",
      "description": "",
      "description_tooltip": null,
      "layout": "IPY_MODEL_1bdb56e9bcc948a5b552b87d8c92f6a2",
      "placeholder": "​",
      "style": "IPY_MODEL_06d2f4e13fd74026875d63993888c9a0",
      "value": " 36096/? [00:06&lt;00:00, 4705.71it/s]"
     }
    },
    "12c3fc0003c04523aadc9afee3bfc7b5": {
     "model_module": "@jupyter-widgets/base",
     "model_name": "LayoutModel",
     "model_module_version": "1.2.0",
     "state": {
      "_model_module": "@jupyter-widgets/base",
      "_model_module_version": "1.2.0",
      "_model_name": "LayoutModel",
      "_view_count": null,
      "_view_module": "@jupyter-widgets/base",
      "_view_module_version": "1.2.0",
      "_view_name": "LayoutView",
      "align_content": null,
      "align_items": null,
      "align_self": null,
      "border": null,
      "bottom": null,
      "display": null,
      "flex": null,
      "flex_flow": null,
      "grid_area": null,
      "grid_auto_columns": null,
      "grid_auto_flow": null,
      "grid_auto_rows": null,
      "grid_column": null,
      "grid_gap": null,
      "grid_row": null,
      "grid_template_areas": null,
      "grid_template_columns": null,
      "grid_template_rows": null,
      "height": null,
      "justify_content": null,
      "justify_items": null,
      "left": null,
      "margin": null,
      "max_height": null,
      "max_width": null,
      "min_height": null,
      "min_width": null,
      "object_fit": null,
      "object_position": null,
      "order": null,
      "overflow": null,
      "overflow_x": null,
      "overflow_y": null,
      "padding": null,
      "right": null,
      "top": null,
      "visibility": null,
      "width": null
     }
    },
    "df6f19b56b904f99925fa298566f115d": {
     "model_module": "@jupyter-widgets/base",
     "model_name": "LayoutModel",
     "model_module_version": "1.2.0",
     "state": {
      "_model_module": "@jupyter-widgets/base",
      "_model_module_version": "1.2.0",
      "_model_name": "LayoutModel",
      "_view_count": null,
      "_view_module": "@jupyter-widgets/base",
      "_view_module_version": "1.2.0",
      "_view_name": "LayoutView",
      "align_content": null,
      "align_items": null,
      "align_self": null,
      "border": null,
      "bottom": null,
      "display": null,
      "flex": null,
      "flex_flow": null,
      "grid_area": null,
      "grid_auto_columns": null,
      "grid_auto_flow": null,
      "grid_auto_rows": null,
      "grid_column": null,
      "grid_gap": null,
      "grid_row": null,
      "grid_template_areas": null,
      "grid_template_columns": null,
      "grid_template_rows": null,
      "height": null,
      "justify_content": null,
      "justify_items": null,
      "left": null,
      "margin": null,
      "max_height": null,
      "max_width": null,
      "min_height": null,
      "min_width": null,
      "object_fit": null,
      "object_position": null,
      "order": null,
      "overflow": null,
      "overflow_x": null,
      "overflow_y": null,
      "padding": null,
      "right": null,
      "top": null,
      "visibility": null,
      "width": null
     }
    },
    "ee0805f4749741848d852ebca32da701": {
     "model_module": "@jupyter-widgets/controls",
     "model_name": "DescriptionStyleModel",
     "model_module_version": "1.5.0",
     "state": {
      "_model_module": "@jupyter-widgets/controls",
      "_model_module_version": "1.5.0",
      "_model_name": "DescriptionStyleModel",
      "_view_count": null,
      "_view_module": "@jupyter-widgets/base",
      "_view_module_version": "1.2.0",
      "_view_name": "StyleView",
      "description_width": ""
     }
    },
    "960faa708b6a4a5a9a35e375b3a5f470": {
     "model_module": "@jupyter-widgets/base",
     "model_name": "LayoutModel",
     "model_module_version": "1.2.0",
     "state": {
      "_model_module": "@jupyter-widgets/base",
      "_model_module_version": "1.2.0",
      "_model_name": "LayoutModel",
      "_view_count": null,
      "_view_module": "@jupyter-widgets/base",
      "_view_module_version": "1.2.0",
      "_view_name": "LayoutView",
      "align_content": null,
      "align_items": null,
      "align_self": null,
      "border": null,
      "bottom": null,
      "display": null,
      "flex": null,
      "flex_flow": null,
      "grid_area": null,
      "grid_auto_columns": null,
      "grid_auto_flow": null,
      "grid_auto_rows": null,
      "grid_column": null,
      "grid_gap": null,
      "grid_row": null,
      "grid_template_areas": null,
      "grid_template_columns": null,
      "grid_template_rows": null,
      "height": null,
      "justify_content": null,
      "justify_items": null,
      "left": null,
      "margin": null,
      "max_height": null,
      "max_width": null,
      "min_height": null,
      "min_width": null,
      "object_fit": null,
      "object_position": null,
      "order": null,
      "overflow": null,
      "overflow_x": null,
      "overflow_y": null,
      "padding": null,
      "right": null,
      "top": null,
      "visibility": null,
      "width": "20px"
     }
    },
    "c84afff1740348a3a924221ba139ac22": {
     "model_module": "@jupyter-widgets/controls",
     "model_name": "ProgressStyleModel",
     "model_module_version": "1.5.0",
     "state": {
      "_model_module": "@jupyter-widgets/controls",
      "_model_module_version": "1.5.0",
      "_model_name": "ProgressStyleModel",
      "_view_count": null,
      "_view_module": "@jupyter-widgets/base",
      "_view_module_version": "1.2.0",
      "_view_name": "StyleView",
      "bar_color": null,
      "description_width": ""
     }
    },
    "1bdb56e9bcc948a5b552b87d8c92f6a2": {
     "model_module": "@jupyter-widgets/base",
     "model_name": "LayoutModel",
     "model_module_version": "1.2.0",
     "state": {
      "_model_module": "@jupyter-widgets/base",
      "_model_module_version": "1.2.0",
      "_model_name": "LayoutModel",
      "_view_count": null,
      "_view_module": "@jupyter-widgets/base",
      "_view_module_version": "1.2.0",
      "_view_name": "LayoutView",
      "align_content": null,
      "align_items": null,
      "align_self": null,
      "border": null,
      "bottom": null,
      "display": null,
      "flex": null,
      "flex_flow": null,
      "grid_area": null,
      "grid_auto_columns": null,
      "grid_auto_flow": null,
      "grid_auto_rows": null,
      "grid_column": null,
      "grid_gap": null,
      "grid_row": null,
      "grid_template_areas": null,
      "grid_template_columns": null,
      "grid_template_rows": null,
      "height": null,
      "justify_content": null,
      "justify_items": null,
      "left": null,
      "margin": null,
      "max_height": null,
      "max_width": null,
      "min_height": null,
      "min_width": null,
      "object_fit": null,
      "object_position": null,
      "order": null,
      "overflow": null,
      "overflow_x": null,
      "overflow_y": null,
      "padding": null,
      "right": null,
      "top": null,
      "visibility": null,
      "width": null
     }
    },
    "06d2f4e13fd74026875d63993888c9a0": {
     "model_module": "@jupyter-widgets/controls",
     "model_name": "DescriptionStyleModel",
     "model_module_version": "1.5.0",
     "state": {
      "_model_module": "@jupyter-widgets/controls",
      "_model_module_version": "1.5.0",
      "_model_name": "DescriptionStyleModel",
      "_view_count": null,
      "_view_module": "@jupyter-widgets/base",
      "_view_module_version": "1.2.0",
      "_view_name": "StyleView",
      "description_width": ""
     }
    },
    "d660697b74f24d6c90d56245d7f92367": {
     "model_module": "@jupyter-widgets/controls",
     "model_name": "HBoxModel",
     "model_module_version": "1.5.0",
     "state": {
      "_dom_classes": [],
      "_model_module": "@jupyter-widgets/controls",
      "_model_module_version": "1.5.0",
      "_model_name": "HBoxModel",
      "_view_count": null,
      "_view_module": "@jupyter-widgets/controls",
      "_view_module_version": "1.5.0",
      "_view_name": "HBoxView",
      "box_style": "",
      "children": [
       "IPY_MODEL_720c5253284e4da5a2975474a18e6c31",
       "IPY_MODEL_e5e4c48844b6406485232b422f22c5aa",
       "IPY_MODEL_ac2c54e7067149af9c528faf8c72f8f7"
      ],
      "layout": "IPY_MODEL_ceeded85749e456285fd839faa76caa3"
     }
    },
    "720c5253284e4da5a2975474a18e6c31": {
     "model_module": "@jupyter-widgets/controls",
     "model_name": "HTMLModel",
     "model_module_version": "1.5.0",
     "state": {
      "_dom_classes": [],
      "_model_module": "@jupyter-widgets/controls",
      "_model_module_version": "1.5.0",
      "_model_name": "HTMLModel",
      "_view_count": null,
      "_view_module": "@jupyter-widgets/controls",
      "_view_module_version": "1.5.0",
      "_view_name": "HTMLView",
      "description": "",
      "description_tooltip": null,
      "layout": "IPY_MODEL_73c2fac094844c468e5402fb4966dc12",
      "placeholder": "​",
      "style": "IPY_MODEL_19a0d04a4b824a22b1ab9ff84eb4fbeb",
      "value": "100%"
     }
    },
    "e5e4c48844b6406485232b422f22c5aa": {
     "model_module": "@jupyter-widgets/controls",
     "model_name": "FloatProgressModel",
     "model_module_version": "1.5.0",
     "state": {
      "_dom_classes": [],
      "_model_module": "@jupyter-widgets/controls",
      "_model_module_version": "1.5.0",
      "_model_name": "FloatProgressModel",
      "_view_count": null,
      "_view_module": "@jupyter-widgets/controls",
      "_view_module_version": "1.5.0",
      "_view_name": "ProgressView",
      "bar_style": "success",
      "description": "",
      "description_tooltip": null,
      "layout": "IPY_MODEL_c75f5a41b9994ca6b823d6799c4b5c2e",
      "max": 3515,
      "min": 0,
      "orientation": "horizontal",
      "style": "IPY_MODEL_598d74601c9544c2871ca81ab65ccef4",
      "value": 3515
     }
    },
    "ac2c54e7067149af9c528faf8c72f8f7": {
     "model_module": "@jupyter-widgets/controls",
     "model_name": "HTMLModel",
     "model_module_version": "1.5.0",
     "state": {
      "_dom_classes": [],
      "_model_module": "@jupyter-widgets/controls",
      "_model_module_version": "1.5.0",
      "_model_name": "HTMLModel",
      "_view_count": null,
      "_view_module": "@jupyter-widgets/controls",
      "_view_module_version": "1.5.0",
      "_view_name": "HTMLView",
      "description": "",
      "description_tooltip": null,
      "layout": "IPY_MODEL_fbd57180b07f460eaf8a5b2f7ada63b0",
      "placeholder": "​",
      "style": "IPY_MODEL_b1882bc4db0d41199cfe88703a1b7718",
      "value": " 3515/3515 [00:01&lt;00:00, 2430.01it/s]"
     }
    },
    "ceeded85749e456285fd839faa76caa3": {
     "model_module": "@jupyter-widgets/base",
     "model_name": "LayoutModel",
     "model_module_version": "1.2.0",
     "state": {
      "_model_module": "@jupyter-widgets/base",
      "_model_module_version": "1.2.0",
      "_model_name": "LayoutModel",
      "_view_count": null,
      "_view_module": "@jupyter-widgets/base",
      "_view_module_version": "1.2.0",
      "_view_name": "LayoutView",
      "align_content": null,
      "align_items": null,
      "align_self": null,
      "border": null,
      "bottom": null,
      "display": null,
      "flex": null,
      "flex_flow": null,
      "grid_area": null,
      "grid_auto_columns": null,
      "grid_auto_flow": null,
      "grid_auto_rows": null,
      "grid_column": null,
      "grid_gap": null,
      "grid_row": null,
      "grid_template_areas": null,
      "grid_template_columns": null,
      "grid_template_rows": null,
      "height": null,
      "justify_content": null,
      "justify_items": null,
      "left": null,
      "margin": null,
      "max_height": null,
      "max_width": null,
      "min_height": null,
      "min_width": null,
      "object_fit": null,
      "object_position": null,
      "order": null,
      "overflow": null,
      "overflow_x": null,
      "overflow_y": null,
      "padding": null,
      "right": null,
      "top": null,
      "visibility": null,
      "width": null
     }
    },
    "73c2fac094844c468e5402fb4966dc12": {
     "model_module": "@jupyter-widgets/base",
     "model_name": "LayoutModel",
     "model_module_version": "1.2.0",
     "state": {
      "_model_module": "@jupyter-widgets/base",
      "_model_module_version": "1.2.0",
      "_model_name": "LayoutModel",
      "_view_count": null,
      "_view_module": "@jupyter-widgets/base",
      "_view_module_version": "1.2.0",
      "_view_name": "LayoutView",
      "align_content": null,
      "align_items": null,
      "align_self": null,
      "border": null,
      "bottom": null,
      "display": null,
      "flex": null,
      "flex_flow": null,
      "grid_area": null,
      "grid_auto_columns": null,
      "grid_auto_flow": null,
      "grid_auto_rows": null,
      "grid_column": null,
      "grid_gap": null,
      "grid_row": null,
      "grid_template_areas": null,
      "grid_template_columns": null,
      "grid_template_rows": null,
      "height": null,
      "justify_content": null,
      "justify_items": null,
      "left": null,
      "margin": null,
      "max_height": null,
      "max_width": null,
      "min_height": null,
      "min_width": null,
      "object_fit": null,
      "object_position": null,
      "order": null,
      "overflow": null,
      "overflow_x": null,
      "overflow_y": null,
      "padding": null,
      "right": null,
      "top": null,
      "visibility": null,
      "width": null
     }
    },
    "19a0d04a4b824a22b1ab9ff84eb4fbeb": {
     "model_module": "@jupyter-widgets/controls",
     "model_name": "DescriptionStyleModel",
     "model_module_version": "1.5.0",
     "state": {
      "_model_module": "@jupyter-widgets/controls",
      "_model_module_version": "1.5.0",
      "_model_name": "DescriptionStyleModel",
      "_view_count": null,
      "_view_module": "@jupyter-widgets/base",
      "_view_module_version": "1.2.0",
      "_view_name": "StyleView",
      "description_width": ""
     }
    },
    "c75f5a41b9994ca6b823d6799c4b5c2e": {
     "model_module": "@jupyter-widgets/base",
     "model_name": "LayoutModel",
     "model_module_version": "1.2.0",
     "state": {
      "_model_module": "@jupyter-widgets/base",
      "_model_module_version": "1.2.0",
      "_model_name": "LayoutModel",
      "_view_count": null,
      "_view_module": "@jupyter-widgets/base",
      "_view_module_version": "1.2.0",
      "_view_name": "LayoutView",
      "align_content": null,
      "align_items": null,
      "align_self": null,
      "border": null,
      "bottom": null,
      "display": null,
      "flex": null,
      "flex_flow": null,
      "grid_area": null,
      "grid_auto_columns": null,
      "grid_auto_flow": null,
      "grid_auto_rows": null,
      "grid_column": null,
      "grid_gap": null,
      "grid_row": null,
      "grid_template_areas": null,
      "grid_template_columns": null,
      "grid_template_rows": null,
      "height": null,
      "justify_content": null,
      "justify_items": null,
      "left": null,
      "margin": null,
      "max_height": null,
      "max_width": null,
      "min_height": null,
      "min_width": null,
      "object_fit": null,
      "object_position": null,
      "order": null,
      "overflow": null,
      "overflow_x": null,
      "overflow_y": null,
      "padding": null,
      "right": null,
      "top": null,
      "visibility": null,
      "width": null
     }
    },
    "598d74601c9544c2871ca81ab65ccef4": {
     "model_module": "@jupyter-widgets/controls",
     "model_name": "ProgressStyleModel",
     "model_module_version": "1.5.0",
     "state": {
      "_model_module": "@jupyter-widgets/controls",
      "_model_module_version": "1.5.0",
      "_model_name": "ProgressStyleModel",
      "_view_count": null,
      "_view_module": "@jupyter-widgets/base",
      "_view_module_version": "1.2.0",
      "_view_name": "StyleView",
      "bar_color": null,
      "description_width": ""
     }
    },
    "fbd57180b07f460eaf8a5b2f7ada63b0": {
     "model_module": "@jupyter-widgets/base",
     "model_name": "LayoutModel",
     "model_module_version": "1.2.0",
     "state": {
      "_model_module": "@jupyter-widgets/base",
      "_model_module_version": "1.2.0",
      "_model_name": "LayoutModel",
      "_view_count": null,
      "_view_module": "@jupyter-widgets/base",
      "_view_module_version": "1.2.0",
      "_view_name": "LayoutView",
      "align_content": null,
      "align_items": null,
      "align_self": null,
      "border": null,
      "bottom": null,
      "display": null,
      "flex": null,
      "flex_flow": null,
      "grid_area": null,
      "grid_auto_columns": null,
      "grid_auto_flow": null,
      "grid_auto_rows": null,
      "grid_column": null,
      "grid_gap": null,
      "grid_row": null,
      "grid_template_areas": null,
      "grid_template_columns": null,
      "grid_template_rows": null,
      "height": null,
      "justify_content": null,
      "justify_items": null,
      "left": null,
      "margin": null,
      "max_height": null,
      "max_width": null,
      "min_height": null,
      "min_width": null,
      "object_fit": null,
      "object_position": null,
      "order": null,
      "overflow": null,
      "overflow_x": null,
      "overflow_y": null,
      "padding": null,
      "right": null,
      "top": null,
      "visibility": null,
      "width": null
     }
    },
    "b1882bc4db0d41199cfe88703a1b7718": {
     "model_module": "@jupyter-widgets/controls",
     "model_name": "DescriptionStyleModel",
     "model_module_version": "1.5.0",
     "state": {
      "_model_module": "@jupyter-widgets/controls",
      "_model_module_version": "1.5.0",
      "_model_name": "DescriptionStyleModel",
      "_view_count": null,
      "_view_module": "@jupyter-widgets/base",
      "_view_module_version": "1.2.0",
      "_view_name": "StyleView",
      "description_width": ""
     }
    },
    "1709a36bc1314982bf2e789882d9d0b2": {
     "model_module": "@jupyter-widgets/controls",
     "model_name": "HBoxModel",
     "model_module_version": "1.5.0",
     "state": {
      "_dom_classes": [],
      "_model_module": "@jupyter-widgets/controls",
      "_model_module_version": "1.5.0",
      "_model_name": "HBoxModel",
      "_view_count": null,
      "_view_module": "@jupyter-widgets/controls",
      "_view_module_version": "1.5.0",
      "_view_name": "HBoxView",
      "box_style": "",
      "children": [
       "IPY_MODEL_618cf83d4be149c69e372cd593061acd",
       "IPY_MODEL_1cf18913adcc43f19b6631d4f019721b",
       "IPY_MODEL_f7853c622e764c67beb736735d924902"
      ],
      "layout": "IPY_MODEL_37aeb55587084ad4b14e48699294635e"
     }
    },
    "618cf83d4be149c69e372cd593061acd": {
     "model_module": "@jupyter-widgets/controls",
     "model_name": "HTMLModel",
     "model_module_version": "1.5.0",
     "state": {
      "_dom_classes": [],
      "_model_module": "@jupyter-widgets/controls",
      "_model_module_version": "1.5.0",
      "_model_name": "HTMLModel",
      "_view_count": null,
      "_view_module": "@jupyter-widgets/controls",
      "_view_module_version": "1.5.0",
      "_view_name": "HTMLView",
      "description": "",
      "description_tooltip": null,
      "layout": "IPY_MODEL_a1c1f662a6cb488b964d688e36d319c3",
      "placeholder": "​",
      "style": "IPY_MODEL_9ba32842de5d4e258c4b414b664d9b9e",
      "value": "100%"
     }
    },
    "1cf18913adcc43f19b6631d4f019721b": {
     "model_module": "@jupyter-widgets/controls",
     "model_name": "FloatProgressModel",
     "model_module_version": "1.5.0",
     "state": {
      "_dom_classes": [],
      "_model_module": "@jupyter-widgets/controls",
      "_model_module_version": "1.5.0",
      "_model_name": "FloatProgressModel",
      "_view_count": null,
      "_view_module": "@jupyter-widgets/controls",
      "_view_module_version": "1.5.0",
      "_view_name": "ProgressView",
      "bar_style": "success",
      "description": "",
      "description_tooltip": null,
      "layout": "IPY_MODEL_44ba85e244dd46ba9a019a836b9922a9",
      "max": 879,
      "min": 0,
      "orientation": "horizontal",
      "style": "IPY_MODEL_531c314206914027bf3fb251fac370a6",
      "value": 879
     }
    },
    "f7853c622e764c67beb736735d924902": {
     "model_module": "@jupyter-widgets/controls",
     "model_name": "HTMLModel",
     "model_module_version": "1.5.0",
     "state": {
      "_dom_classes": [],
      "_model_module": "@jupyter-widgets/controls",
      "_model_module_version": "1.5.0",
      "_model_name": "HTMLModel",
      "_view_count": null,
      "_view_module": "@jupyter-widgets/controls",
      "_view_module_version": "1.5.0",
      "_view_name": "HTMLView",
      "description": "",
      "description_tooltip": null,
      "layout": "IPY_MODEL_ae7dabd4ae0c431d8ce6ca9e9bad5ffd",
      "placeholder": "​",
      "style": "IPY_MODEL_6c70f40aaf464195b636d80fadd11b1f",
      "value": " 879/879 [00:00&lt;00:00, 2240.93it/s]"
     }
    },
    "37aeb55587084ad4b14e48699294635e": {
     "model_module": "@jupyter-widgets/base",
     "model_name": "LayoutModel",
     "model_module_version": "1.2.0",
     "state": {
      "_model_module": "@jupyter-widgets/base",
      "_model_module_version": "1.2.0",
      "_model_name": "LayoutModel",
      "_view_count": null,
      "_view_module": "@jupyter-widgets/base",
      "_view_module_version": "1.2.0",
      "_view_name": "LayoutView",
      "align_content": null,
      "align_items": null,
      "align_self": null,
      "border": null,
      "bottom": null,
      "display": null,
      "flex": null,
      "flex_flow": null,
      "grid_area": null,
      "grid_auto_columns": null,
      "grid_auto_flow": null,
      "grid_auto_rows": null,
      "grid_column": null,
      "grid_gap": null,
      "grid_row": null,
      "grid_template_areas": null,
      "grid_template_columns": null,
      "grid_template_rows": null,
      "height": null,
      "justify_content": null,
      "justify_items": null,
      "left": null,
      "margin": null,
      "max_height": null,
      "max_width": null,
      "min_height": null,
      "min_width": null,
      "object_fit": null,
      "object_position": null,
      "order": null,
      "overflow": null,
      "overflow_x": null,
      "overflow_y": null,
      "padding": null,
      "right": null,
      "top": null,
      "visibility": null,
      "width": null
     }
    },
    "a1c1f662a6cb488b964d688e36d319c3": {
     "model_module": "@jupyter-widgets/base",
     "model_name": "LayoutModel",
     "model_module_version": "1.2.0",
     "state": {
      "_model_module": "@jupyter-widgets/base",
      "_model_module_version": "1.2.0",
      "_model_name": "LayoutModel",
      "_view_count": null,
      "_view_module": "@jupyter-widgets/base",
      "_view_module_version": "1.2.0",
      "_view_name": "LayoutView",
      "align_content": null,
      "align_items": null,
      "align_self": null,
      "border": null,
      "bottom": null,
      "display": null,
      "flex": null,
      "flex_flow": null,
      "grid_area": null,
      "grid_auto_columns": null,
      "grid_auto_flow": null,
      "grid_auto_rows": null,
      "grid_column": null,
      "grid_gap": null,
      "grid_row": null,
      "grid_template_areas": null,
      "grid_template_columns": null,
      "grid_template_rows": null,
      "height": null,
      "justify_content": null,
      "justify_items": null,
      "left": null,
      "margin": null,
      "max_height": null,
      "max_width": null,
      "min_height": null,
      "min_width": null,
      "object_fit": null,
      "object_position": null,
      "order": null,
      "overflow": null,
      "overflow_x": null,
      "overflow_y": null,
      "padding": null,
      "right": null,
      "top": null,
      "visibility": null,
      "width": null
     }
    },
    "9ba32842de5d4e258c4b414b664d9b9e": {
     "model_module": "@jupyter-widgets/controls",
     "model_name": "DescriptionStyleModel",
     "model_module_version": "1.5.0",
     "state": {
      "_model_module": "@jupyter-widgets/controls",
      "_model_module_version": "1.5.0",
      "_model_name": "DescriptionStyleModel",
      "_view_count": null,
      "_view_module": "@jupyter-widgets/base",
      "_view_module_version": "1.2.0",
      "_view_name": "StyleView",
      "description_width": ""
     }
    },
    "44ba85e244dd46ba9a019a836b9922a9": {
     "model_module": "@jupyter-widgets/base",
     "model_name": "LayoutModel",
     "model_module_version": "1.2.0",
     "state": {
      "_model_module": "@jupyter-widgets/base",
      "_model_module_version": "1.2.0",
      "_model_name": "LayoutModel",
      "_view_count": null,
      "_view_module": "@jupyter-widgets/base",
      "_view_module_version": "1.2.0",
      "_view_name": "LayoutView",
      "align_content": null,
      "align_items": null,
      "align_self": null,
      "border": null,
      "bottom": null,
      "display": null,
      "flex": null,
      "flex_flow": null,
      "grid_area": null,
      "grid_auto_columns": null,
      "grid_auto_flow": null,
      "grid_auto_rows": null,
      "grid_column": null,
      "grid_gap": null,
      "grid_row": null,
      "grid_template_areas": null,
      "grid_template_columns": null,
      "grid_template_rows": null,
      "height": null,
      "justify_content": null,
      "justify_items": null,
      "left": null,
      "margin": null,
      "max_height": null,
      "max_width": null,
      "min_height": null,
      "min_width": null,
      "object_fit": null,
      "object_position": null,
      "order": null,
      "overflow": null,
      "overflow_x": null,
      "overflow_y": null,
      "padding": null,
      "right": null,
      "top": null,
      "visibility": null,
      "width": null
     }
    },
    "531c314206914027bf3fb251fac370a6": {
     "model_module": "@jupyter-widgets/controls",
     "model_name": "ProgressStyleModel",
     "model_module_version": "1.5.0",
     "state": {
      "_model_module": "@jupyter-widgets/controls",
      "_model_module_version": "1.5.0",
      "_model_name": "ProgressStyleModel",
      "_view_count": null,
      "_view_module": "@jupyter-widgets/base",
      "_view_module_version": "1.2.0",
      "_view_name": "StyleView",
      "bar_color": null,
      "description_width": ""
     }
    },
    "ae7dabd4ae0c431d8ce6ca9e9bad5ffd": {
     "model_module": "@jupyter-widgets/base",
     "model_name": "LayoutModel",
     "model_module_version": "1.2.0",
     "state": {
      "_model_module": "@jupyter-widgets/base",
      "_model_module_version": "1.2.0",
      "_model_name": "LayoutModel",
      "_view_count": null,
      "_view_module": "@jupyter-widgets/base",
      "_view_module_version": "1.2.0",
      "_view_name": "LayoutView",
      "align_content": null,
      "align_items": null,
      "align_self": null,
      "border": null,
      "bottom": null,
      "display": null,
      "flex": null,
      "flex_flow": null,
      "grid_area": null,
      "grid_auto_columns": null,
      "grid_auto_flow": null,
      "grid_auto_rows": null,
      "grid_column": null,
      "grid_gap": null,
      "grid_row": null,
      "grid_template_areas": null,
      "grid_template_columns": null,
      "grid_template_rows": null,
      "height": null,
      "justify_content": null,
      "justify_items": null,
      "left": null,
      "margin": null,
      "max_height": null,
      "max_width": null,
      "min_height": null,
      "min_width": null,
      "object_fit": null,
      "object_position": null,
      "order": null,
      "overflow": null,
      "overflow_x": null,
      "overflow_y": null,
      "padding": null,
      "right": null,
      "top": null,
      "visibility": null,
      "width": null
     }
    },
    "6c70f40aaf464195b636d80fadd11b1f": {
     "model_module": "@jupyter-widgets/controls",
     "model_name": "DescriptionStyleModel",
     "model_module_version": "1.5.0",
     "state": {
      "_model_module": "@jupyter-widgets/controls",
      "_model_module_version": "1.5.0",
      "_model_name": "DescriptionStyleModel",
      "_view_count": null,
      "_view_module": "@jupyter-widgets/base",
      "_view_module_version": "1.2.0",
      "_view_name": "StyleView",
      "description_width": ""
     }
    }
   }
  }
 },
 "nbformat_minor": 4,
 "nbformat": 4,
 "cells": [
  {
   "cell_type": "markdown",
   "source": [
    "# YOLO TRAINING (v5 - v8)"
   ],
   "metadata": {
    "collapsed": false
   }
  },
  {
   "cell_type": "markdown",
   "source": [
    "## IMPORTS"
   ],
   "metadata": {
    "id": "78fhT062NpDc"
   }
  },
  {
   "cell_type": "code",
   "source": [
    "import numpy as np\n",
    "from glob import glob\n",
    "import shutil, os\n",
    "from sklearn.model_selection import GroupKFold\n",
    "from tqdm.notebook import tqdm\n",
    "import pandas as pd\n",
    "import yaml\n",
    "import torch\n",
    "import matplotlib.pyplot as plt"
   ],
   "metadata": {
    "id": "Qhyg9e7UNpDd",
    "execution": {
     "iopub.status.busy": "2023-03-24T09:57:55.437842Z",
     "iopub.execute_input": "2023-03-24T09:57:55.438387Z",
     "iopub.status.idle": "2023-03-24T09:57:56.267059Z",
     "shell.execute_reply.started": "2023-03-24T09:57:55.438312Z",
     "shell.execute_reply": "2023-03-24T09:57:56.266036Z"
    },
    "trusted": true
   },
   "execution_count": null,
   "outputs": []
  },
  {
   "cell_type": "markdown",
   "source": [
    "## CONFIG VARIABLES"
   ],
   "metadata": {
    "collapsed": false
   }
  },
  {
   "cell_type": "markdown",
   "source": [
    "#### Project Config:\n",
    "\n",
    "- root_dir :\n",
    "    - train.csv\n",
    "    - test.csv\n",
    "    - train_meta.csv\n",
    "    - kaggle.json"
   ],
   "metadata": {
    "collapsed": false
   }
  },
  {
   "cell_type": "code",
   "source": [
    "ROOT_DIR = '/kaggle/'\n",
    "TRAIN_DIR = ROOT_DIR + 'data/train/'\n",
    "TEST_DIR = ROOT_DIR + 'data/test/'\n",
    "TRAIN_CSV = ROOT_DIR + 'train.csv'\n",
    "TRAIN_META_CSV = ROOT_DIR + 'train_meta.csv'\n",
    "TEST_CSV = ROOT_DIR + 'test.csv'\n",
    "\n",
    "MODEL = 'v5' # for YOLOV5\n",
    "# MODEL = 'v8' # for YOLOV8"
   ],
   "metadata": {
    "id": "QgRWEGEUNpDf",
    "execution": {
     "iopub.status.busy": "2023-03-24T09:59:06.314775Z",
     "iopub.execute_input": "2023-03-24T09:59:06.315518Z",
     "iopub.status.idle": "2023-03-24T09:59:06.322120Z",
     "shell.execute_reply.started": "2023-03-24T09:59:06.315470Z",
     "shell.execute_reply": "2023-03-24T09:59:06.320619Z"
    },
    "trusted": true
   },
   "execution_count": null,
   "outputs": []
  },
  {
   "cell_type": "markdown",
   "source": [
    "## /!\\ TO TRIGGER IF RUNNING ON KAGGLE ONLY /!\\"
   ],
   "metadata": {
    "collapsed": false
   }
  },
  {
   "cell_type": "code",
   "execution_count": null,
   "outputs": [],
   "source": [
    "def is_kaggle():\n",
    "    \"\"\"\n",
    "    If the code is running on Kaggle take custom data from private repo and copy to root directory\n",
    "    /!\\ On Kaggle I have a private dataset (data-ai) containing: /!\\\n",
    "    - train.csv\n",
    "    - test.csv\n",
    "    - train_meta.csv\n",
    "    - kaggle.json\n",
    "    You can use your own data or download from Kaggle, just change the paths\n",
    "    \"\"\"\n",
    "    os.chdir('..')\n",
    "    !cp input/data-ai/kaggle.json .\n",
    "    !cp input/data-ai/test.csv .\n",
    "    !cp input/data-ai/train.csv .\n",
    "    !cp input/data-ai/train_meta.csv .\n",
    "    !pwd\n",
    "    !ls\n",
    "\n",
    "is_kaggle()"
   ],
   "metadata": {
    "collapsed": false
   }
  },
  {
   "cell_type": "markdown",
   "source": [
    "## FUNCTIONS"
   ],
   "metadata": {
    "collapsed": false
   }
  },
  {
   "cell_type": "markdown",
   "source": [
    "#### DONWLOAD DATA"
   ],
   "metadata": {
    "collapsed": false
   }
  },
  {
   "cell_type": "code",
   "execution_count": null,
   "outputs": [],
   "source": [
    "def download_data(image_size=512):\n",
    "    \"\"\"\n",
    "    Download data from Kaggle\n",
    "    :param image_size: 256, 512 or 1024\n",
    "    :return: None\n",
    "    \"\"\"\n",
    "    !pip install -q kaggle\n",
    "    !mkdir -p ~/.kaggle\n",
    "    !cp kaggle.json ~/.kaggle/\n",
    "    !chmod 600 ~/.kaggle/kaggle.json\n",
    "    if image_size == 256:\n",
    "        !kaggle datasets download -d xhlulu/vinbigdata-chest-xray-resized-png-256x256\n",
    "        !unzip vinbigdata-chest-xray-resized-png-256x256.zip -d data\n",
    "    elif image_size == 512:\n",
    "        !kaggle datasets download -d xhlulu/vinbigdata\n",
    "        !unzip vinbigdata.zip -d data\n",
    "    elif image_size == 1024:\n",
    "        !kaggle datasets download -d xhlulu/vinbigdata-chest-xray-resized-png-1024x1024\n",
    "        !unzip vinbigdata-chest-xray-resized-png-1024x1024.zip -d data\n",
    "    else:\n",
    "        print(\"Image size not supported\")\n",
    "\n",
    "    print(f\"Number of train files: {len(glob(TRAIN_DIR+'*.png'))}\")\n",
    "    print(f\"Number of test files: {len(glob(TEST_DIR+'*.png'))}\")"
   ],
   "metadata": {
    "collapsed": false
   }
  },
  {
   "cell_type": "markdown",
   "source": [
    "#### DATA PREPARATION"
   ],
   "metadata": {
    "id": "oYpcaEmCNpDf"
   }
  },
  {
   "cell_type": "code",
   "source": [
    "def add_metadata(df_train, df_meta):\n",
    "    df_train['height'] = np.nan\n",
    "    df_train['width'] = np.nan\n",
    "\n",
    "    for index, row in tqdm(df_train.iterrows()):\n",
    "        meta_id = df_meta[df_meta['image_id']==df_train.loc[index,'image_id']].index[0]\n",
    "        df_train.loc[index, 'height'] = df_meta.loc[meta_id, 'dim0']\n",
    "        df_train.loc[index, 'width'] = df_meta.loc[meta_id, 'dim1']"
   ],
   "metadata": {
    "colab": {
     "referenced_widgets": [
      "4d525a6b1ded414db4109dd958f6473c",
      "d7c776a801394355befc2811d8c05732",
      "1575ccf61447463b80c182cfa5ef84cc",
      "76115e0a9186410aa8b7f324b70af8d3",
      "27939b1656f348c2b38678a3cfb92bc1",
      "9f1e092be5274d00a1244b83ffc76179",
      "00ccb50c9e244759b7c01a95dcd4c7c1",
      "077366440fea4a17864c6c94867e148b",
      "0e5e4751e2bc4e7383891f8bb22e5f79",
      "9ff06ea673774f56b6fa07e832a9e89b",
      "88ad6710c3eb41e7827afff1585fe07d"
     ],
     "base_uri": "https://localhost:8080/",
     "height": 49
    },
    "id": "7xPz02x2NpDg",
    "outputId": "10f488f9-3369-42c5-e4f5-063430406288",
    "execution": {
     "iopub.status.busy": "2023-03-24T09:59:09.291816Z",
     "iopub.execute_input": "2023-03-24T09:59:09.292189Z",
     "iopub.status.idle": "2023-03-24T10:00:32.724545Z",
     "shell.execute_reply.started": "2023-03-24T09:59:09.292142Z",
     "shell.execute_reply": "2023-03-24T10:00:32.723285Z"
    },
    "trusted": true
   },
   "execution_count": null,
   "outputs": []
  },
  {
   "cell_type": "code",
   "source": [
    "def normalize_box(df_train):\n",
    "    df_train['x_min'] = df_train.apply(lambda row: (row.x_min)/row.width, axis =1)\n",
    "    df_train['y_min'] = df_train.apply(lambda row: (row.y_min)/row.height, axis =1)\n",
    "\n",
    "    df_train['x_max'] = df_train.apply(lambda row: (row.x_max)/row.width, axis =1)\n",
    "    df_train['y_max'] = df_train.apply(lambda row: (row.y_max)/row.height, axis =1)\n",
    "\n",
    "    df_train['x_mid'] = df_train.apply(lambda row: (row.x_max+row.x_min)/2, axis =1)\n",
    "    df_train['y_mid'] = df_train.apply(lambda row: (row.y_max+row.y_min)/2, axis =1)\n",
    "\n",
    "    df_train['w'] = df_train.apply(lambda row: (row.x_max-row.x_min), axis =1)\n",
    "    df_train['h'] = df_train.apply(lambda row: (row.y_max-row.y_min), axis =1)\n",
    "\n",
    "    df_train['area'] = df_train['w']*df_train['h']"
   ],
   "metadata": {
    "id": "1lPbBQWpNpDh",
    "outputId": "9d7d2b93-60b2-4b5b-81e0-140a3bffda3e",
    "colab": {
     "base_uri": "https://localhost:8080/",
     "height": 305
    },
    "execution": {
     "iopub.status.busy": "2023-03-24T10:00:32.726163Z",
     "iopub.execute_input": "2023-03-24T10:00:32.726855Z",
     "iopub.status.idle": "2023-03-24T10:00:38.762579Z",
     "shell.execute_reply.started": "2023-03-24T10:00:32.726805Z",
     "shell.execute_reply": "2023-03-24T10:00:38.761325Z"
    },
    "trusted": true
   },
   "execution_count": null,
   "outputs": []
  },
  {
   "cell_type": "code",
   "source": [
    "def add_image_path(df_train):\n",
    "    df_train['image_path'] = TRAIN_DIR+df_train.image_id+'.png'"
   ],
   "metadata": {
    "id": "sKqog3DKNpDh",
    "execution": {
     "iopub.status.busy": "2023-03-24T10:00:38.764541Z",
     "iopub.execute_input": "2023-03-24T10:00:38.764995Z",
     "iopub.status.idle": "2023-03-24T10:00:38.782456Z",
     "shell.execute_reply.started": "2023-03-24T10:00:38.764933Z",
     "shell.execute_reply": "2023-03-24T10:00:38.781260Z"
    },
    "trusted": true
   },
   "execution_count": null,
   "outputs": []
  },
  {
   "cell_type": "code",
   "execution_count": null,
   "outputs": [],
   "source": [
    "def get_fold_split(df_train, n_splits=5):\n",
    "    gkf  = GroupKFold(n_splits=n_splits)\n",
    "    df_train['fold'] = -1\n",
    "    for fold, (train_idx, val_idx) in enumerate(gkf.split(df_train, groups = df_train.image_id.tolist())):\n",
    "        df_train.loc[val_idx, 'fold'] = fold\n",
    "    train_files = []\n",
    "    val_files   = []\n",
    "    val_files += list(df_train[df_train.fold==fold].image_path.unique())\n",
    "    train_files += list(df_train[df_train.fold!=fold].image_path.unique())\n",
    "    print(f\"Train: {len(train_files)} - Val: {len(val_files)}\")\n",
    "    return train_files, val_files"
   ],
   "metadata": {
    "collapsed": false
   }
  },
  {
   "cell_type": "code",
   "execution_count": null,
   "outputs": [],
   "source": [
    "def get_classes(df_train):\n",
    "    class_ids, class_names = list(zip(*set(zip(df_train.class_id, df_train.class_name))))\n",
    "    classes = list(np.array(class_names)[np.argsort(class_ids)])\n",
    "    classes = list(map(lambda x: str(x), classes))\n",
    "    return classes"
   ],
   "metadata": {
    "collapsed": false
   }
  },
  {
   "cell_type": "code",
   "execution_count": null,
   "outputs": [],
   "source": [
    "def get_features(df_train):\n",
    "    features = ['x_min', 'y_min', 'x_max', 'y_max', 'x_mid', 'y_mid', 'w', 'h', 'area']\n",
    "    X = df_train[features]\n",
    "    y = df_train['class_id']\n",
    "    print(f'X shape: {X.shape} - y shape: {y.shape}')\n",
    "    return X, y"
   ],
   "metadata": {
    "collapsed": false
   }
  },
  {
   "cell_type": "code",
   "execution_count": null,
   "outputs": [],
   "source": [
    "def generate_labels(df_train):\n",
    "    os.makedirs(ROOT_DIR + 'raw_labels', exist_ok = True)\n",
    "    for index, row in tqdm(df_train.iterrows()):\n",
    "        filename = row.image_path.split('/')[-1].split('.')[0]\n",
    "        with open(ROOT_DIR+'raw_labels/'+filename+'.txt', 'a+') as f:\n",
    "            f.write(f\"{row.class_id} {row.x_mid} {row.y_mid} {row.w} {row.h}\\n\")"
   ],
   "metadata": {
    "collapsed": false
   }
  },
  {
   "cell_type": "code",
   "source": [
    "def copy_files(train_files, val_files, label_dir='raw_labels/'):\n",
    "    os.makedirs(ROOT_DIR + 'labels/train', exist_ok = True)\n",
    "    os.makedirs(ROOT_DIR + 'labels/val', exist_ok = True)\n",
    "    os.makedirs(ROOT_DIR + 'images/train', exist_ok = True)\n",
    "    os.makedirs( ROOT_DIR + 'images/val', exist_ok = True)\n",
    "    label_dir = ROOT_DIR + label_dir\n",
    "    for file in tqdm(train_files):\n",
    "        shutil.copy(file, ROOT_DIR + 'images/train')\n",
    "        filename = file.split('/')[-1].split('.')[0]\n",
    "        shutil.copy(os.path.join(label_dir, filename+'.txt'), ROOT_DIR + 'labels/train')\n",
    "\n",
    "    for file in tqdm(val_files):\n",
    "        shutil.copy(file, ROOT_DIR+ 'images/val')\n",
    "        filename = file.split('/')[-1].split('.')[0]\n",
    "        shutil.copy(os.path.join(label_dir, filename+'.txt'), ROOT_DIR + 'labels/val')"
   ],
   "metadata": {
    "colab": {
     "referenced_widgets": [
      "d660697b74f24d6c90d56245d7f92367",
      "720c5253284e4da5a2975474a18e6c31",
      "e5e4c48844b6406485232b422f22c5aa",
      "ac2c54e7067149af9c528faf8c72f8f7",
      "ceeded85749e456285fd839faa76caa3",
      "73c2fac094844c468e5402fb4966dc12",
      "19a0d04a4b824a22b1ab9ff84eb4fbeb",
      "c75f5a41b9994ca6b823d6799c4b5c2e",
      "598d74601c9544c2871ca81ab65ccef4",
      "fbd57180b07f460eaf8a5b2f7ada63b0",
      "b1882bc4db0d41199cfe88703a1b7718",
      "1709a36bc1314982bf2e789882d9d0b2",
      "618cf83d4be149c69e372cd593061acd",
      "1cf18913adcc43f19b6631d4f019721b",
      "f7853c622e764c67beb736735d924902",
      "37aeb55587084ad4b14e48699294635e",
      "a1c1f662a6cb488b964d688e36d319c3",
      "9ba32842de5d4e258c4b414b664d9b9e",
      "44ba85e244dd46ba9a019a836b9922a9",
      "531c314206914027bf3fb251fac370a6",
      "ae7dabd4ae0c431d8ce6ca9e9bad5ffd",
      "6c70f40aaf464195b636d80fadd11b1f"
     ],
     "base_uri": "https://localhost:8080/",
     "height": 81
    },
    "id": "emXNhel7NpDj",
    "outputId": "01671d52-74f1-4841-8b05-463c444d8731",
    "execution": {
     "iopub.status.busy": "2023-03-24T10:00:45.193062Z",
     "iopub.execute_input": "2023-03-24T10:00:45.193699Z",
     "iopub.status.idle": "2023-03-24T10:00:46.984447Z",
     "shell.execute_reply.started": "2023-03-24T10:00:45.193657Z",
     "shell.execute_reply": "2023-03-24T10:00:46.983526Z"
    },
    "trusted": true
   },
   "execution_count": null,
   "outputs": []
  },
  {
   "cell_type": "code",
   "source": [
    "def generate_yaml(classes):\n",
    "    with open(ROOT_DIR+'train.txt', 'w') as f:\n",
    "        for path in glob(ROOT_DIR +'images/train/*'):\n",
    "                f.write(path + '\\n')\n",
    "\n",
    "        with open(ROOT_DIR+'val.txt', 'w') as f:\n",
    "            for path in glob(ROOT_DIR + 'images/val/*'):\n",
    "                f.write(path + '\\n')\n",
    "\n",
    "        data = dict(\n",
    "            train =  ROOT_DIR + 'train.txt' ,\n",
    "            val   =  ROOT_DIR + 'val.txt' ,\n",
    "            nc    = 14,\n",
    "            names = classes\n",
    "            )\n",
    "\n",
    "        with open(ROOT_DIR + 'project.yaml', 'w') as outfile:\n",
    "            yaml.dump(data, outfile, default_flow_style=False)\n",
    "\n",
    "        f = open(ROOT_DIR + 'project.yaml', 'r')"
   ],
   "metadata": {
    "id": "4lFUe_doNpDj",
    "outputId": "ff90c508-d576-4dfe-d2ec-86f94e9ea486",
    "colab": {
     "base_uri": "https://localhost:8080/"
    },
    "execution": {
     "iopub.status.busy": "2023-03-24T10:00:46.985855Z",
     "iopub.execute_input": "2023-03-24T10:00:46.990746Z",
     "iopub.status.idle": "2023-03-24T10:00:47.114103Z",
     "shell.execute_reply.started": "2023-03-24T10:00:46.990708Z",
     "shell.execute_reply": "2023-03-24T10:00:47.106031Z"
    },
    "trusted": true
   },
   "execution_count": null,
   "outputs": []
  },
  {
   "cell_type": "code",
   "execution_count": null,
   "outputs": [],
   "source": [
    "def data_preparation():\n",
    "    df_train = pd.read_csv(TRAIN_CSV)\n",
    "    df_train = df_train[df_train.class_id!=14].reset_index(drop = True) #remove No finding\n",
    "    df_meta = pd.read_csv(TRAIN_META_CSV)\n",
    "    print('Add metadata...')\n",
    "    add_metadata(df_train, df_meta) #add metadata (width, height) to df_train\n",
    "    print('Normalize box coordinates...')\n",
    "    normalize_box(df_train) #normalize box coordinates\n",
    "    add_image_path(df_train) #add image path to df_train\n",
    "    train_files, val_files = get_fold_split(df_train) #split train and val (5 folds)\n",
    "    print('Generate labels...')\n",
    "    generate_labels(df_train) #generate labels for YOLO\n",
    "    print('Copy files...')\n",
    "    copy_files(train_files, val_files) # copy images and labels to labels and images folders with train and val subfolders\n",
    "    generate_yaml(get_classes(df_train)) #generate project.yaml file and train.txt and val.txt files"
   ],
   "metadata": {
    "collapsed": false
   }
  },
  {
   "cell_type": "markdown",
   "source": [
    "#### YOLO"
   ],
   "metadata": {
    "id": "S7irEFIlNpDk"
   }
  },
  {
   "cell_type": "code",
   "execution_count": null,
   "outputs": [],
   "source": [
    "def setup_yolo(version=MODEL):\n",
    "    if version == 'v5':\n",
    "        !git clone https://github.com/ultralytics/yolov5  # clone repo\n",
    "        os.chdir('yolov5')\n",
    "        !pip install -qr requirements.txt\n",
    "    elif version == 'v8':\n",
    "        !git clone https://github.com/ultralytics/ultralytics  # clone repo\n",
    "        os.chdir('ultralytics')\n",
    "        !pip install -qr requirements.txt # install dependencies\n",
    "        !python setup.py install\n",
    "    print('Setup complete. Using torch %s %s' % (torch.__version__, torch.cuda.get_device_properties(0) if torch.cuda.is_available() else 'CPU'))"
   ],
   "metadata": {
    "collapsed": false
   }
  },
  {
   "cell_type": "code",
   "execution_count": null,
   "outputs": [],
   "source": [
    "def train(version=MODEL, batch=16, epochs=30):\n",
    "    if version == 'v5':\n",
    "        !python train.py --img 640 --batch $batch --epochs $epochs --data $ROOT_DIR/project.yaml --weights yolov5x.pt --cache\n",
    "    elif version == 'v8':\n",
    "        !yolo train imgsz=640 batch=$batch epochs=$epochs data=$ROOT_DIR/project.yaml model=yolov8x.pt pretrained=True cache"
   ],
   "metadata": {
    "collapsed": false
   }
  },
  {
   "cell_type": "code",
   "execution_count": null,
   "outputs": [],
   "source": [
    "def predict(version=MODEL, iou=0.4, conf=0.01):\n",
    "    if version == 'v5':\n",
    "        !python detect.py --weights runs/train/exp/weights/best.pt --img 640 --conf $conf --iou $iou --source $TEST_DIR --save-txt --save-conf --exist-ok\n",
    "    elif version == 'v8':\n",
    "        !yolo predict model='runs/detect/train/weights/best.pt' imgsz=640 conf=$conf iou=$iou source=$TEST_DIR save_txt=True save_conf=True exist_ok=True save=True"
   ],
   "metadata": {
    "collapsed": false
   }
  },
  {
   "cell_type": "markdown",
   "source": [
    "#### PLOTS"
   ],
   "metadata": {
    "collapsed": false
   }
  },
  {
   "cell_type": "code",
   "execution_count": null,
   "outputs": [],
   "source": [
    "def plot_class_distribution(path):\n",
    "    plt.figure(figsize = (20,20))\n",
    "    plt.axis('off')\n",
    "    plt.title('labels_correlogram')\n",
    "    plt.imshow(plt.imread(path+'labels_correlogram.jpg'))\n",
    "    plt.figure(figsize = (20,20))\n",
    "    plt.axis('off')\n",
    "    plt.title('labels')\n",
    "    plt.imshow(plt.imread(path+'labels.jpg'))"
   ],
   "metadata": {
    "collapsed": false
   }
  },
  {
   "cell_type": "code",
   "execution_count": null,
   "outputs": [],
   "source": [
    "def plot_batch_train(path):\n",
    "    plt.figure(figsize = (15, 15))\n",
    "    plt.imshow(plt.imread(path+'train_batch0.jpg'))\n",
    "    plt.figure(figsize = (15, 15))\n",
    "    plt.imshow(plt.imread(path+'train_batch1.jpg'))\n",
    "    plt.figure(figsize = (15, 15))\n",
    "    plt.imshow(plt.imread(path+'train_batch2.jpg'))"
   ],
   "metadata": {
    "collapsed": false
   }
  },
  {
   "cell_type": "code",
   "execution_count": null,
   "outputs": [],
   "source": [
    "def plot_batch_val(path):\n",
    "    fig, ax = plt.subplots(3, 2, figsize = (2*5,3*5), constrained_layout = True)\n",
    "    for row in range(3):\n",
    "        ax[row][0].imshow(plt.imread(f'{path}val_batch{row}_labels.jpg'))\n",
    "        ax[row][0].set_xticks([])\n",
    "        ax[row][0].set_yticks([])\n",
    "        ax[row][0].set_title(f'Label {row}', fontsize = 12)\n",
    "\n",
    "        ax[row][1].imshow(plt.imread(f'{path}val_batch{row}_pred.jpg'))\n",
    "        ax[row][1].set_xticks([])\n",
    "        ax[row][1].set_yticks([])\n",
    "        ax[row][1].set_title(f'Predict {row}', fontsize = 12)"
   ],
   "metadata": {
    "collapsed": false
   }
  },
  {
   "cell_type": "code",
   "execution_count": null,
   "outputs": [],
   "source": [
    "def plot_curves(path):\n",
    "    plt.figure(figsize = (15, 15))\n",
    "    plt.imshow(plt.imread(path+'F1_curve.png'))\n",
    "\n",
    "    plt.figure(figsize = (15, 15))\n",
    "    plt.imshow(plt.imread(path+'PR_curve.png'))\n",
    "\n",
    "    plt.figure(figsize = (15, 15))\n",
    "    plt.imshow(plt.imread(path+'P_curve.png'))\n",
    "\n",
    "    plt.figure(figsize = (15, 15))\n",
    "    plt.imshow(plt.imread(path+'R_curve.png'))\n",
    "\n",
    "    plt.figure(figsize = (15, 15))\n",
    "    plt.imshow(plt.imread(path+'results.png'))"
   ],
   "metadata": {
    "collapsed": false
   }
  },
  {
   "cell_type": "code",
   "execution_count": null,
   "outputs": [],
   "source": [
    "def plot_confusion_matrix(path):\n",
    "    plt.figure(figsize = (15, 15))\n",
    "    plt.imshow(plt.imread(path+'confusion_matrix.png'))"
   ],
   "metadata": {
    "collapsed": false
   }
  },
  {
   "cell_type": "code",
   "execution_count": null,
   "outputs": [],
   "source": [
    "def plot_results(version=MODEL):\n",
    "    if version == 'v5':\n",
    "        path = 'runs/train/exp/'\n",
    "    elif version == 'v8':\n",
    "        path = 'runs/detect/train/'\n",
    "    else:\n",
    "        print('Wrong version')\n",
    "        return\n",
    "    plot_class_distribution(path)\n",
    "    plot_batch_train(path)\n",
    "    plot_batch_val(path)\n",
    "    plot_curves(path)\n",
    "    plot_confusion_matrix(path)"
   ],
   "metadata": {
    "collapsed": false
   }
  },
  {
   "cell_type": "markdown",
   "source": [
    "#### Create submission"
   ],
   "metadata": {
    "id": "7DZkKOhWAhKf"
   }
  },
  {
   "cell_type": "code",
   "source": [
    "def yolo2voc(image_height, image_width, bboxes):\n",
    "    \"\"\"\n",
    "    yolo => [xmid, ymid, w, h] (normalized)\n",
    "    voc  => [x1, y1, x2, y1]\n",
    "    \n",
    "    \"\"\" \n",
    "    bboxes = bboxes.copy().astype(float) # otherwise all value will be 0 as voc_pascal dtype is np.int\n",
    "    \n",
    "    bboxes[..., [0, 2]] = bboxes[..., [0, 2]]* image_width\n",
    "    bboxes[..., [1, 3]] = bboxes[..., [1, 3]]* image_height\n",
    "    \n",
    "    bboxes[..., [0, 1]] = bboxes[..., [0, 1]] - bboxes[..., [2, 3]]/2\n",
    "    bboxes[..., [2, 3]] = bboxes[..., [0, 1]] + bboxes[..., [2, 3]]\n",
    "    \n",
    "    return bboxes"
   ],
   "metadata": {
    "id": "EBRh-63PAOmm",
    "trusted": true
   },
   "execution_count": null,
   "outputs": []
  },
  {
   "cell_type": "code",
   "source": [
    "def generate_submission(version=MODEL):\n",
    "    if version==\"v5\":\n",
    "        directory = 'runs/detect/exp/'\n",
    "    elif version==\"v8\":\n",
    "        directory = 'runs/detect/predict/'\n",
    "    else:\n",
    "        print(\"version not found\")\n",
    "        return\n",
    "\n",
    "    df_test = pd.read_csv(TEST_CSV)\n",
    "    image_ids = []\n",
    "    PredictionStrings = []\n",
    "\n",
    "    for file_path in tqdm(glob(directory+'labels/*txt')):\n",
    "        image_id = file_path.split('/')[-1].split('.')[0]\n",
    "        w, h = df_test.loc[df_test.image_id==image_id,['width', 'height']].values[0]\n",
    "        f = open(file_path, 'r')\n",
    "        data = np.array(f.read().replace('\\n', ' ').strip().split(' ')).astype(np.float32).reshape(-1, 6)\n",
    "        data = data[:, [0, 5, 1, 2, 3, 4]]\n",
    "        bboxes = list(np.round(np.concatenate((data[:, :2], np.round(yolo2voc(h, w, data[:, 2:]))), axis =1).reshape(-1), 1).astype(str))\n",
    "        for idx in range(len(bboxes)):\n",
    "            bboxes[idx] = str(int(float(bboxes[idx]))) if idx%6!=1 else bboxes[idx]\n",
    "        image_ids.append(image_id)\n",
    "        PredictionStrings.append(' '.join(bboxes))\n",
    "\n",
    "    pred_df = pd.DataFrame({'image_id':image_ids,\n",
    "                            'PredictionString':PredictionStrings})\n",
    "    sub_df = pd.merge(df_test, pred_df, on = 'image_id', how = 'left').fillna(\"14 1 0 0 1 1\")\n",
    "    sub_df = sub_df[['image_id', 'PredictionString']]\n",
    "    sub_df.to_csv(ROOT_DIR + 'yolo.csv',index = False)\n",
    "    display(sub_df.head())\n",
    "    print(f'Prediction saved at {ROOT_DIR}yolo.csv')"
   ],
   "metadata": {
    "colab": {
     "base_uri": "https://localhost:8080/",
     "height": 49,
     "referenced_widgets": [
      "8470f0b6821642d3a51ce6c2be83aa5f",
      "48dd68d1d5bd4fcb842e6af44d8808e2",
      "be92c34de60842c882b8537144972491",
      "c81c4625a3e7456d88e8db3d9abaf6f3",
      "b83437a8a20b4d398148d973fddef203",
      "134bd535e96743f383ed020feb5b5df6",
      "8c5f0efcdef340d5ac74c8c243873e0f",
      "457dd4db65404f3598191febbb2a10d0",
      "fbe6e072e68141568def839cf452f663",
      "e9382d13b31c416f993ceec03f7d3ba9",
      "3b2158888bb0416b9639752c09d369b9"
     ]
    },
    "id": "IVsLaZImAjLx",
    "outputId": "bdeccc41-dcec-4f88-c7fb-f9dca2d1aa0f",
    "trusted": true
   },
   "execution_count": null,
   "outputs": []
  },
  {
   "cell_type": "code",
   "execution_count": null,
   "outputs": [],
   "source": [
    "def zip_yolo_results(version=MODEL):\n",
    "    if version=='v5':\n",
    "        !zip -r $ROOT_DIR/results.zip runs/\n",
    "    elif version=='v8':\n",
    "        !zip -r $ROOT_DIR/results.zip runs/detect/\n",
    "    else:\n",
    "        print('Wrong version')\n",
    "        return"
   ],
   "metadata": {
    "collapsed": false
   }
  },
  {
   "cell_type": "markdown",
   "source": [
    "## RUN"
   ],
   "metadata": {
    "collapsed": false
   }
  },
  {
   "cell_type": "markdown",
   "source": [
    "#### DOWNLOAD DATA"
   ],
   "metadata": {
    "collapsed": false
   }
  },
  {
   "cell_type": "code",
   "execution_count": null,
   "outputs": [],
   "source": [
    "download_data(image_size=512)"
   ],
   "metadata": {
    "collapsed": false
   }
  },
  {
   "cell_type": "markdown",
   "source": [
    "#### DATA PREPARATOIN"
   ],
   "metadata": {
    "collapsed": false
   }
  },
  {
   "cell_type": "code",
   "source": [
    "data_preparation()"
   ],
   "metadata": {
    "id": "y7aI-vbpEURX"
   },
   "execution_count": null,
   "outputs": []
  },
  {
   "cell_type": "markdown",
   "source": [
    "#### SETUP YOLO"
   ],
   "metadata": {
    "collapsed": false
   }
  },
  {
   "cell_type": "code",
   "execution_count": null,
   "outputs": [],
   "source": [
    "setup_yolo(version=MODEL)"
   ],
   "metadata": {
    "collapsed": false
   }
  },
  {
   "cell_type": "markdown",
   "source": [
    "#### TRAIN YOLO ON DATA"
   ],
   "metadata": {
    "collapsed": false
   }
  },
  {
   "cell_type": "code",
   "execution_count": null,
   "outputs": [],
   "source": [
    "train(version=MODEL, batch=16, epochs=30)"
   ],
   "metadata": {
    "collapsed": false
   }
  },
  {
   "cell_type": "markdown",
   "source": [
    "#### PLOT RESULTS OF TRAINING"
   ],
   "metadata": {
    "collapsed": false
   }
  },
  {
   "cell_type": "code",
   "execution_count": null,
   "outputs": [],
   "source": [
    "plot_results(version=MODEL)"
   ],
   "metadata": {
    "collapsed": false
   }
  },
  {
   "cell_type": "markdown",
   "source": [
    "#### PREDICTION ON TEST DATA"
   ],
   "metadata": {
    "collapsed": false
   }
  },
  {
   "cell_type": "code",
   "execution_count": null,
   "outputs": [],
   "source": [
    "predict(version=MODEL, iou=0.4, conf=0.01)"
   ],
   "metadata": {
    "collapsed": false
   }
  },
  {
   "cell_type": "markdown",
   "source": [
    "#### GENERATE SUBMISSION FOR COMPETITION"
   ],
   "metadata": {
    "collapsed": false
   }
  },
  {
   "cell_type": "code",
   "execution_count": null,
   "outputs": [],
   "source": [
    "generate_submission(version=MODEL)"
   ],
   "metadata": {
    "collapsed": false
   }
  },
  {
   "cell_type": "markdown",
   "source": [
    "#### ZIP RESULTS"
   ],
   "metadata": {
    "collapsed": false
   }
  },
  {
   "cell_type": "code",
   "execution_count": null,
   "outputs": [],
   "source": [
    "zip_yolo_results(version=MODEL)"
   ],
   "metadata": {
    "collapsed": false
   }
  },
  {
   "cell_type": "code",
   "execution_count": null,
   "outputs": [],
   "source": [],
   "metadata": {
    "collapsed": false
   }
  }
 ]
}
