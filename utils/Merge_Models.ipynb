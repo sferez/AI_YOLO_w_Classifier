{
 "cells": [
  {
   "cell_type": "markdown",
   "source": [
    "# MERGE YOLO AND CLASSIFIER FOR SUBMISSION"
   ],
   "metadata": {
    "collapsed": false
   }
  },
  {
   "cell_type": "markdown",
   "source": [
    "## IMPORTS"
   ],
   "metadata": {
    "collapsed": false
   }
  },
  {
   "cell_type": "code",
   "execution_count": null,
   "metadata": {
    "collapsed": true
   },
   "outputs": [],
   "source": [
    "import pandas as pd"
   ]
  },
  {
   "cell_type": "markdown",
   "source": [
    "## CONFIG\n",
    "\n",
    "#### Project Config:\n",
    "\n",
    "- root_dir :\n",
    "    - YOLO_RESULT\n",
    "    - CLASSIFIER_RESULT"
   ],
   "metadata": {
    "collapsed": false
   }
  },
  {
   "cell_type": "code",
   "execution_count": null,
   "outputs": [],
   "source": [
    "YOLO_RESULT = ''\n",
    "CLASSIFIER_RESULT = ''\n",
    "THRESHOLD = 0.05"
   ],
   "metadata": {
    "collapsed": false
   }
  },
  {
   "cell_type": "markdown",
   "source": [
    "## FUNCTIONS"
   ],
   "metadata": {
    "collapsed": false
   }
  },
  {
   "cell_type": "code",
   "execution_count": null,
   "outputs": [],
   "source": [
    "def read_pred():\n",
    "    pred_yolo = pd.read_csv(YOLO_RESULT)\n",
    "    print('YOLO: ')\n",
    "    display(pred_yolo.head())\n",
    "    pred_classifier = pd.read_csv(CLASSIFIER_RESULT)\n",
    "    print('CLASSIFIER: ')\n",
    "    display(pred_classifier.head())\n",
    "    return pred_yolo, pred_classifier"
   ],
   "metadata": {
    "collapsed": false
   }
  },
  {
   "cell_type": "code",
   "execution_count": null,
   "outputs": [],
   "source": [
    "def merge_pred(pred_yolo, pred_classifier):\n",
    "    pred = pd.merge(pred_yolo, pred_classifier, on='image_id', how='left')\n",
    "    display(pred.head())\n",
    "    return pred"
   ],
   "metadata": {
    "collapsed": false
   }
  },
  {
   "cell_type": "code",
   "execution_count": null,
   "outputs": [],
   "source": [
    "def filter_2cls(row):\n",
    "    prob = row['target']\n",
    "    if prob > (1-THRESHOLD):\n",
    "        ## Less chance of having any disease\n",
    "        row['PredictionString'] = '14 1 0 0 1 1'\n",
    "    elif THRESHOLD <= prob <= (1-THRESHOLD):\n",
    "        ## More change of having any diesease\n",
    "        row['PredictionString'] += f' 14 {round(prob,3)} 0 0 1 1'\n",
    "    elif THRESHOLD >= prob:\n",
    "        ## Good chance of having any disease so believe in object detection model\n",
    "        row['PredictionString'] = row['PredictionString']\n",
    "    else:\n",
    "        print(prob)\n",
    "        raise ValueError('Prediction must be from [0-1]')\n",
    "    return row"
   ],
   "metadata": {
    "collapsed": false
   }
  },
  {
   "cell_type": "code",
   "execution_count": null,
   "outputs": [],
   "source": [
    "def merge_2cls(pred):\n",
    "    sub = pred.apply(filter_2cls, axis=1)\n",
    "    display(sub.head())\n",
    "    sub[['image_id', 'PredictionString']].to_csv('submission.csv', index=False)\n",
    "    print('Final submission saved at submission.csv')"
   ],
   "metadata": {
    "collapsed": false
   }
  },
  {
   "cell_type": "markdown",
   "source": [
    "## RUN"
   ],
   "metadata": {
    "collapsed": false
   }
  },
  {
   "cell_type": "markdown",
   "source": [
    "#### READ PREDICTIONS"
   ],
   "metadata": {
    "collapsed": false
   }
  },
  {
   "cell_type": "code",
   "execution_count": null,
   "outputs": [],
   "source": [
    "pred_yolo, pred_classifier = read_pred()"
   ],
   "metadata": {
    "collapsed": false
   }
  },
  {
   "cell_type": "markdown",
   "source": [
    "#### MERGE PREDICTIONS"
   ],
   "metadata": {
    "collapsed": false
   }
  },
  {
   "cell_type": "code",
   "execution_count": null,
   "outputs": [],
   "source": [
    "pred = merge_pred(pred_yolo, pred_classifier)"
   ],
   "metadata": {
    "collapsed": false
   }
  },
  {
   "cell_type": "markdown",
   "source": [
    "#### CREATE SUBMISSION"
   ],
   "metadata": {
    "collapsed": false
   }
  },
  {
   "cell_type": "code",
   "execution_count": null,
   "outputs": [],
   "source": [
    "merge_2cls(pred)"
   ],
   "metadata": {
    "collapsed": false
   }
  },
  {
   "cell_type": "markdown",
   "source": [
    "## MERGE CLASSIFIER RESULTS"
   ],
   "metadata": {
    "collapsed": false
   }
  },
  {
   "cell_type": "code",
   "execution_count": null,
   "outputs": [],
   "source": [
    "file1 = ''\n",
    "file2 = ''\n",
    "file3 = ''\n",
    "file4 = ''\n",
    "\n",
    "df1 = pd.read_csv(file1)\n",
    "df1 = df1.rename(columns={'target': 'target_1'})\n",
    "df2 = pd.read_csv(file2)\n",
    "df2 = df2.rename(columns={'target': 'target_2'})\n",
    "df3 = pd.read_csv(file3)\n",
    "df3 = df3.rename(columns={'target': 'target_3'})\n",
    "df4 = pd.read_csv(file4)\n",
    "df4 = df4.rename(columns={'target': 'target_4'})\n",
    "\n",
    "df = pd.merge(df1, df2, on='image_id', how='left')\n",
    "df = pd.merge(df, df3, on='image_id', how='left')\n",
    "df = pd.merge(df, df4, on='image_id', how='left')\n",
    "\n",
    "df['target'] = df[['target_1', 'target_2', 'target_3', 'target_4']].mean(axis=1)\n",
    "df = df[['image_id', 'target']]\n",
    "\n",
    "display(df.head())"
   ],
   "metadata": {
    "collapsed": false
   }
  },
  {
   "cell_type": "code",
   "execution_count": null,
   "outputs": [],
   "source": [],
   "metadata": {
    "collapsed": false
   }
  }
 ],
 "metadata": {
  "kernelspec": {
   "display_name": "Python 3",
   "language": "python",
   "name": "python3"
  },
  "language_info": {
   "codemirror_mode": {
    "name": "ipython",
    "version": 2
   },
   "file_extension": ".py",
   "mimetype": "text/x-python",
   "name": "python",
   "nbconvert_exporter": "python",
   "pygments_lexer": "ipython2",
   "version": "2.7.6"
  }
 },
 "nbformat": 4,
 "nbformat_minor": 0
}
